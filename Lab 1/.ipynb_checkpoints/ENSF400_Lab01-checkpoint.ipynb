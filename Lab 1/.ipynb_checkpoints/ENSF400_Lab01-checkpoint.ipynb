{
 "cells": [
  {
   "cell_type": "markdown",
   "metadata": {},
   "source": [
    "# ENSF 400 - Winter 2024 - Lab 1 - Data Formats"
   ]
  },
  {
   "cell_type": "markdown",
   "metadata": {},
   "source": [
    "# JSON\n",
    "In this tutorial, you will learn to parse, read and write JSON in Python with the help of examples. Also, you will learn to convert JSON to dict and pretty print it.\n",
    "\n",
    "JSON (JavaScript Object Notation) is a popular data format used for representing structured data. It's common to transmit and receive data between a server and web application in JSON format.\n",
    "\n",
    "In Python, JSON exists as a string. For example:\n",
    "\n"
   ]
  },
  {
   "cell_type": "code",
   "execution_count": 2,
   "metadata": {},
   "outputs": [
    {
     "name": "stdout",
     "output_type": "stream",
     "text": [
      "{\"name\": \"Bob\", \"languages\": [\"Python\", \"Java\"]}\n"
     ]
    },
    {
     "data": {
      "text/plain": [
       "str"
      ]
     },
     "execution_count": 2,
     "metadata": {},
     "output_type": "execute_result"
    }
   ],
   "source": [
    "p = '{\"name\": \"Bob\", \"languages\": [\"Python\", \"Java\"]}'\n",
    "print(p)\n",
    "type(p)"
   ]
  },
  {
   "cell_type": "markdown",
   "metadata": {},
   "source": [
    "It's also common to store a JSON object in a file.\n",
    "\n",
    "## Import JSON Module\n",
    "To work with JSON (string, or file containing JSON object), you can use Python's json module. You need to import the module before you can use it.\n",
    "\n",
    "## Parse JSON in Python\n",
    "The json module makes it easy to parse JSON strings and files containing JSON object.\n",
    "\n",
    "### Example 1: Python JSON to dict\n",
    "You can parse a JSON string using json.loads() method. The method returns a dictionary.\n"
   ]
  },
  {
   "cell_type": "code",
   "execution_count": 5,
   "metadata": {},
   "outputs": [],
   "source": [
    "import json\n",
    "\n",
    "person = '{\"name\": \"Bob\", \"languages\": [\"English\", \"Fench\"]}'\n",
    "person_dict = json.loads(person)"
   ]
  },
  {
   "cell_type": "code",
   "execution_count": 6,
   "metadata": {},
   "outputs": [
    {
     "name": "stdout",
     "output_type": "stream",
     "text": [
      "{'name': 'Bob', 'languages': ['English', 'Fench']}\n"
     ]
    },
    {
     "data": {
      "text/plain": [
       "'Bob'"
      ]
     },
     "execution_count": 6,
     "metadata": {},
     "output_type": "execute_result"
    }
   ],
   "source": [
    "# Output: {'name': 'Bob', 'languages': ['English', 'Fench']}\n",
    "print(person_dict)\n",
    "type(person_dict)\n",
    "person_dict['name']"
   ]
  },
  {
   "cell_type": "code",
   "execution_count": 7,
   "metadata": {},
   "outputs": [
    {
     "name": "stdout",
     "output_type": "stream",
     "text": [
      "['English', 'Fench']\n"
     ]
    },
    {
     "data": {
      "text/plain": [
       "list"
      ]
     },
     "execution_count": 7,
     "metadata": {},
     "output_type": "execute_result"
    }
   ],
   "source": [
    "# Output: ['English', 'French']\n",
    "print(person_dict['languages'])\n",
    "type(person_dict['languages'])"
   ]
  },
  {
   "cell_type": "markdown",
   "metadata": {},
   "source": [
    "Here, person is a JSON string, and person_dict is a dictionary.\n",
    "\n",
    "### Example 2: Python read JSON file\n",
    "You can use `json.load()` method to read a file containing JSON object.\n",
    "\n",
    "Suppose, you have a file named `person.json` which contains a JSON object."
   ]
  },
  {
   "cell_type": "code",
   "execution_count": 8,
   "metadata": {},
   "outputs": [
    {
     "name": "stdout",
     "output_type": "stream",
     "text": [
      "Overwriting person.json\n"
     ]
    }
   ],
   "source": [
    "%%writefile person.json\n",
    "{\"name\": \"Bob\", \"languages\": [\"English\", \"Fench\"]}"
   ]
  },
  {
   "cell_type": "markdown",
   "metadata": {},
   "source": [
    "Here's how you can parse this file:"
   ]
  },
  {
   "cell_type": "code",
   "execution_count": 10,
   "metadata": {},
   "outputs": [
    {
     "name": "stdout",
     "output_type": "stream",
     "text": [
      "{'name': 'Bob', 'languages': ['English', 'Fench']}\n"
     ]
    },
    {
     "data": {
      "text/plain": [
       "dict"
      ]
     },
     "execution_count": 10,
     "metadata": {},
     "output_type": "execute_result"
    }
   ],
   "source": [
    "import json\n",
    "\n",
    "with open('person.json') as f:\n",
    "  data = json.load(f)\n",
    "\n",
    "# Output: {'name': 'Bob', 'languages': ['English', 'Fench']}\n",
    "print(data)\n",
    "type(data)"
   ]
  },
  {
   "cell_type": "markdown",
   "metadata": {},
   "source": [
    "Here, we have used the `open()` function to read the json file. Then, the file is parsed using `json.load()` method which gives us a dictionary named data.\n",
    "\n",
    "If you do not know how to read and write files in Python, we recommend you to check Python File I/O.\n",
    "\n",
    "## Python Convert to JSON string\n",
    "You can convert a dictionary to JSON string using `json.dumps()` method.\n",
    "\n",
    "### Example 3: Convert dict to JSON"
   ]
  },
  {
   "cell_type": "code",
   "execution_count": 7,
   "metadata": {},
   "outputs": [
    {
     "name": "stdout",
     "output_type": "stream",
     "text": [
      "{\"name\": \"Bob\", \"age\": 12, \"children\": null}\n"
     ]
    },
    {
     "data": {
      "text/plain": [
       "str"
      ]
     },
     "execution_count": 7,
     "metadata": {},
     "output_type": "execute_result"
    }
   ],
   "source": [
    "import json\n",
    "\n",
    "person_dict = {\n",
    "    'name': 'Bob',\n",
    "    'age': 12,\n",
    "    'children': None\n",
    "}\n",
    "person_json = json.dumps(person_dict)\n",
    "\n",
    "# Output: {\"name\": \"Bob\", \"age\": 12, \"children\": null}\n",
    "print(person_json)\n",
    "type(person_json)"
   ]
  },
  {
   "cell_type": "markdown",
   "metadata": {},
   "source": [
    "Here's a table showing Python objects and their equivalent conversion to JSON.\n",
    "\n",
    "| Python          | JSON Equivalent |\n",
    "|-----------------|-----------------|\n",
    "| dict            | object          |\n",
    "| list, tuple     | array           |\n",
    "| str             | string          |\n",
    "| int, float, int | number          |\n",
    "| True            | true            |\n",
    "| False           | false           |\n",
    "| None            | null            |\n",
    "\n",
    "## Writing JSON to a file\n",
    "To write JSON to a file in Python, we can use `json.dump()` method.\n",
    "\n",
    "### Example 4: Writing JSON to a file\n"
   ]
  },
  {
   "cell_type": "code",
   "execution_count": 13,
   "metadata": {},
   "outputs": [],
   "source": [
    "import json\n",
    "\n",
    "person_dict = {\n",
    "    \"name\": \"Bob\",\n",
    "    \"languages\": [\"English\", \"Fench\"],\n",
    "    \"married\": True,\n",
    "    \"age\": 32\n",
    "}\n",
    "\n",
    "with open('person.txt', 'w') as json_file:\n",
    "  json.dump(person_dict, json_file)\n"
   ]
  },
  {
   "cell_type": "markdown",
   "metadata": {},
   "source": [
    "In the above program, we have opened a file named person.txt in writing mode using 'w'. If the file doesn't already exist, it will be created. Then, `json.dump()` transforms person_dict to a JSON string which will be saved in the person.txt file.\n",
    "\n",
    "When you run the program, the person.txt file will be created. The file has the text output inside it.\n",
    "\n",
    "## Python pretty print JSON\n",
    "To analyze and debug JSON data, we may need to print it in a more readable format. This can be done by passing additional parameters indent and sort_keys to `json.dumps()` and `json.dump()` method.\n",
    "\n",
    "### Example 5: Python pretty print JSON\n",
    "\n"
   ]
  },
  {
   "cell_type": "code",
   "execution_count": 19,
   "metadata": {},
   "outputs": [
    {
     "name": "stdout",
     "output_type": "stream",
     "text": [
      "{\n",
      "    \"name\": \"Bob\",\n",
      "    \"languages\": \"English\",\n",
      "    \"numbers\": [\n",
      "        2,\n",
      "        1.6,\n",
      "        null\n",
      "    ]\n",
      "}\n"
     ]
    }
   ],
   "source": [
    "import json\n",
    "\n",
    "person_string = '{\"name\": \"Bob\", \"languages\": \"English\", \"numbers\": [2, 1.6, null]}'\n",
    "\n",
    "# Getting dictionary\n",
    "person_dict = json.loads(person_string)\n",
    "\n",
    "# Pretty Printing JSON string back\n",
    "print(json.dumps(person_dict, indent = 4, sort_keys=False))\n"
   ]
  },
  {
   "cell_type": "markdown",
   "metadata": {},
   "source": [
    "In the above program, we have used 4 spaces for indentation. And, the keys are sorted in ascending order. By the way, the default value of `indent = None`. And, the default value of `sort_keys = False`."
   ]
  },
  {
   "cell_type": "markdown",
   "metadata": {},
   "source": [
    "# YAML\n",
    "\n",
    "_YAML Ain’t Markup Language_ ([YAML](https://yaml.org/)) is a serialization language that has steadily increased in popularity over the last few years.\n",
    "\n",
    "It’s often used as **a format for configuration files**, but its object serialization abilities make it a viable replacement for languages like JSON. YAML has broad language support and maps easily into native data structures. It’s also **easy for humans to read**, which is why it’s a good choice for configuration.\n",
    "\n",
    "The YAML acronym was shorthand for _Yet Another Markup Language_. But the maintainers renamed it to _YAML Ain’t Markup Language_ to place more emphasis on its data-oriented features.\n",
    "\n",
    "## A Simple YAML Example\n",
    "\n",
    "Let’s take a look at a YAML file for a brief overview.\n"
   ]
  },
  {
   "cell_type": "code",
   "execution_count": 8,
   "metadata": {},
   "outputs": [
    {
     "name": "stdout",
     "output_type": "stream",
     "text": [
      "Overwriting simple.yaml\n"
     ]
    }
   ],
   "source": [
    "%%writefile simple.yaml\n",
    "--- \n",
    " doe: \"a deer, a female deer\"\n",
    " ray: \"a drop of golden sun\"\n",
    " pi: 3.14159\n",
    " xmas: true\n",
    " french-hens: 3\n",
    " calling-birds: \n",
    "   - huey\n",
    "   - dewey\n",
    "   - louie\n",
    "   - fred\n",
    " xmas-fifth-day: \n",
    "   calling-birds: four\n",
    "   french-hens: 3\n",
    "   golden-rings: 5\n",
    "   partridges: \n",
    "     count: 1\n",
    "     location: \"a pear tree\"\n",
    "   turtle-doves: two"
   ]
  },
  {
   "cell_type": "markdown",
   "metadata": {},
   "source": [
    "The file starts with three dashes. These dashes indicate the start of a new YAML document. YAML supports multiple documents, and compliant parsers will recognize each set of dashes as the beginning of a new one.\n",
    "\n",
    "Next, we see the construct that makes up most of a typical YAML document: a key-value pair. `Doe` is a key that points to a string value: `a deer, a female deer`.\n",
    "\n",
    "YAML supports more than just string values. The file starts with six key-value pairs. They have four different data types. `Doe` and `ray` are strings. `Pi` is a floating-point number. `Xmas` is a boolean. `French-hens` is an integer. You can enclose strings in single or double-quotes or no quotes at all. YAML recognizes unquoted numerals as integers or floating point.\n",
    "\n",
    "The seventh item is an array. `Calling-birds` has four elements, each denoted by an opening dash.\n",
    "\n",
    "I indented the elements in `calling-birds` with two spaces. **Indentation is how YAML denotes nesting**. The number of spaces can vary from file to file, but <u>tabs are not allowed</u>. We’ll look at how indentation works below.\n",
    "\n",
    "Finally, we see `xmas-fifth-day`, which has five more elements inside it, each of them indented. We can view `xmas-fifth-day` as a dictionary that contains two string, two integers, and another dictionary. YAML supports nesting of key-values, and mixing types.\n",
    "\n",
    "Before we take a deeper dive, let’s look at how this document looks in JSON. You may use an online [JSON to YAML converter](https://www.json2yaml.com/). The result is pasted below:\n",
    "\n",
    "```json\n",
    "{\n",
    "  \"doe\": \"a deer, a female deer\",\n",
    "  \"ray\": \"a drop of golden sun\",\n",
    "  \"pi\": 3.14159,\n",
    "  \"xmas\": true,\n",
    "  \"french-hens\": 3,\n",
    "  \"calling-birds\": [\n",
    "     \"huey\",\n",
    "     \"dewey\",\n",
    "     \"louie\",\n",
    "     \"fred\"\n",
    "  ],\n",
    "  \"xmas-fifth-day\": {\n",
    "  \"calling-birds\": \"four\",\n",
    "  \"french-hens\": 3,\n",
    "  \"golden-rings\": 5,\n",
    "  \"partridges\": {\n",
    "    \"count\": 1,\n",
    "    \"location\": \"a pear tree\"\n",
    "  },\n",
    "  \"turtle-doves\": \"two\"\n",
    "  }\n",
    "}\n",
    "```"
   ]
  },
  {
   "cell_type": "markdown",
   "metadata": {},
   "source": [
    "JSON and YAML have similar capabilities, and you can convert most documents between the formats.\n",
    "\n",
    "## Outline Indentation and Whitespace\n",
    "Whitespace is part of YAML’s formatting. Unless otherwise indicated, newlines indicate the end of a field.\n",
    "\n",
    "You structure a YAML document with indentation. The indentation level can be one or more spaces. The specification forbids tabs because tools treat them differently.\n",
    "\n",
    "Consider this document. The items inside `stuff` are indented with two spaces."
   ]
  },
  {
   "cell_type": "code",
   "execution_count": 2,
   "metadata": {},
   "outputs": [
    {
     "name": "stdout",
     "output_type": "stream",
     "text": [
      "Overwriting foo.yaml\n"
     ]
    }
   ],
   "source": [
    "%%writefile foo.yaml\n",
    "foo: bar\n",
    "pleh: help\n",
    "stuff:\n",
    "  foo: bar\n",
    "  bar: foo"
   ]
  },
  {
   "cell_type": "markdown",
   "metadata": {},
   "source": [
    "The `PyYAML` package will map a YAML file stream into a dictionary. We’ll iterate through the outermost set of keys and values and print the key and the string representation of each value."
   ]
  },
  {
   "cell_type": "code",
   "execution_count": 12,
   "metadata": {},
   "outputs": [
    {
     "name": "stdout",
     "output_type": "stream",
     "text": [
      "{\n",
      "    \"foo\": \"bar\",\n",
      "    \"pleh\": \"help\",\n",
      "    \"stuff\": {\n",
      "        \"foo\": \"bar\",\n",
      "        \"bar\": \"foo\"\n",
      "    }\n",
      "}\n"
     ]
    }
   ],
   "source": [
    "import yaml\n",
    "import json\n",
    "\n",
    "def print_yaml(filename):\n",
    "    f = open(filename, 'r')\n",
    "    dictionary = yaml.full_load(f)\n",
    "    print(json.dumps(dictionary, indent = 4, sort_keys=False))\n",
    "\n",
    "\n",
    "print_yaml(\"foo.yaml\")"
   ]
  },
  {
   "cell_type": "markdown",
   "metadata": {},
   "source": [
    "YAML’s simple nesting gives us the power to build sophisticated objects. But that’s only the beginning."
   ]
  },
  {
   "cell_type": "markdown",
   "metadata": {},
   "source": [
    "## Comments\n",
    "Comments begin with a pound sign. They can appear after a document value or take up an entire line.\n",
    "```yaml\n",
    "---\n",
    "# This is a full line comment\n",
    "foo: bar # this is a comment, too\n",
    "```"
   ]
  },
  {
   "cell_type": "markdown",
   "metadata": {},
   "source": [
    "## YAML Datatypes\n",
    "\n",
    "Values in YAML’s key-value pairs are scalar. They act like the scalar types in languages like Perl, Javascript, and Python. It’s usually good enough to enclose strings in quotes, leave numbers unquoted, and let the parser figure it out.\n",
    "\n",
    "But that’s only the tip of the iceberg. YAML is capable of a great deal more.\n",
    "\n",
    "### Key-Value Pairs and Dictionaries\n",
    "The key-value is YAML’s basic building block. Every item in a YAML document is a member of at least one dictionary. The key is always a string. The value is a scalar so that it can be any datatype.\n",
    "\n",
    "So, as we’ve already seen, the value can be a string, a number, or another dictionary.\n",
    "\n",
    "### Numeric types\n",
    "YAML recognizes numeric types. We saw floating point and integers above. YAML supports several other numeric types.\n",
    "\n",
    "An integer can be decimal, hexidecimal, or octal."
   ]
  },
  {
   "cell_type": "code",
   "execution_count": 8,
   "metadata": {},
   "outputs": [
    {
     "name": "stdout",
     "output_type": "stream",
     "text": [
      "Overwriting numeric.yaml\n"
     ]
    }
   ],
   "source": [
    "%%writefile numeric.yaml\n",
    "---\n",
    " foo: 12345\n",
    " bar: 0x12d4\n",
    " plop: 023332"
   ]
  },
  {
   "cell_type": "code",
   "execution_count": 9,
   "metadata": {},
   "outputs": [
    {
     "name": "stdout",
     "output_type": "stream",
     "text": [
      "{'foo': 12345, 'bar': 4820, 'plop': 9946}\n",
      "{\n",
      "    \"bar\": 4820,\n",
      "    \"foo\": 12345,\n",
      "    \"plop\": 9946\n",
      "}\n"
     ]
    }
   ],
   "source": [
    "print_yaml(\"numeric.yaml\")"
   ]
  },
  {
   "cell_type": "markdown",
   "metadata": {},
   "source": [
    "As you expect, `Ox` indicates a value is hex, and a _leading zero_ denotes an octal value.\n",
    "\n",
    "YAML supports both fixed and exponential floating point numbers."
   ]
  },
  {
   "cell_type": "code",
   "execution_count": 10,
   "metadata": {},
   "outputs": [
    {
     "name": "stdout",
     "output_type": "stream",
     "text": [
      "Overwriting float.yaml\n"
     ]
    }
   ],
   "source": [
    "%%writefile float.yaml\n",
    "---\n",
    " foo: 1230.15\n",
    " bar:  12.3015e+05"
   ]
  },
  {
   "cell_type": "code",
   "execution_count": 13,
   "metadata": {},
   "outputs": [
    {
     "name": "stdout",
     "output_type": "stream",
     "text": [
      "{\n",
      "    \"foo\": 1230.15,\n",
      "    \"bar\": 1230150.0\n",
      "}\n"
     ]
    }
   ],
   "source": [
    "print_yaml(\"float.yaml\")"
   ]
  },
  {
   "cell_type": "markdown",
   "metadata": {},
   "source": [
    "Finally, we can represent not-a-number (NAN) or infinity."
   ]
  },
  {
   "cell_type": "code",
   "execution_count": 14,
   "metadata": {},
   "outputs": [
    {
     "name": "stdout",
     "output_type": "stream",
     "text": [
      "Overwriting nan.yaml\n"
     ]
    }
   ],
   "source": [
    "%%writefile nan.yaml\n",
    "---\n",
    "foo: .inf\n",
    "bar: -.Inf\n",
    "plop: .NAN"
   ]
  },
  {
   "cell_type": "code",
   "execution_count": 13,
   "metadata": {},
   "outputs": [
    {
     "name": "stdout",
     "output_type": "stream",
     "text": [
      "{'foo': inf, 'bar': -inf, 'plop': nan}\n",
      "{\n",
      "    \"bar\": -Infinity,\n",
      "    \"foo\": Infinity,\n",
      "    \"plop\": NaN\n",
      "}\n"
     ]
    }
   ],
   "source": [
    "print_yaml(\"nan.yaml\")"
   ]
  },
  {
   "cell_type": "markdown",
   "metadata": {},
   "source": [
    "### Strings\n",
    "YAML strings are Unicode. In most situations, you don’t have to specify them in quotes."
   ]
  },
  {
   "cell_type": "code",
   "execution_count": 14,
   "metadata": {},
   "outputs": [
    {
     "name": "stdout",
     "output_type": "stream",
     "text": [
      "Overwriting strings.yaml\n"
     ]
    }
   ],
   "source": [
    "%%writefile strings.yaml\n",
    "---\n",
    "foo: \"this is not a normal string\\n\"\n",
    "bar: this is not a normal string\\n"
   ]
  },
  {
   "cell_type": "code",
   "execution_count": 15,
   "metadata": {},
   "outputs": [
    {
     "name": "stdout",
     "output_type": "stream",
     "text": [
      "{'foo': 'this is not a normal string\\n', 'bar': 'this is not a normal string\\\\n'}\n",
      "{\n",
      "    \"bar\": \"this is not a normal string\\\\n\",\n",
      "    \"foo\": \"this is not a normal string\\n\"\n",
      "}\n"
     ]
    }
   ],
   "source": [
    "print_yaml(\"strings.yaml\")"
   ]
  },
  {
   "cell_type": "markdown",
   "metadata": {},
   "source": [
    "YAML processes the first value as ending with a carriage return and linefeed. Since the second value is not quoted, YAML treats the `\\n` as two characters.\n",
    "\n",
    "YAML will not escape strings with single quotes, but the single quotes do avoid having string contents interpreted as document formatting.\n",
    "\n",
    "String values can span more than one line. With the fold (greater than) character, you can specify a string in a block.\n"
   ]
  },
  {
   "cell_type": "code",
   "execution_count": 21,
   "metadata": {},
   "outputs": [
    {
     "name": "stdout",
     "output_type": "stream",
     "text": [
      "Overwriting newline.yaml\n"
     ]
    }
   ],
   "source": [
    "%%writefile newline.yaml\n",
    "bar: >\n",
    "  this is not a normal string it\n",
    "  spans more than\n",
    "  one line\n",
    "  see?"
   ]
  },
  {
   "cell_type": "code",
   "execution_count": 27,
   "metadata": {},
   "outputs": [
    {
     "name": "stdout",
     "output_type": "stream",
     "text": [
      "this is not a normal string it spans more than one line see?\n",
      "\n"
     ]
    }
   ],
   "source": [
    "import yaml\n",
    "f = open('newline.yaml', 'r')\n",
    "dictionary = yaml.full_load(f)\n",
    "print(dictionary['bar'])"
   ]
  },
  {
   "cell_type": "markdown",
   "metadata": {},
   "source": [
    "The block (pipe) character has a similar function, but YAML interprets the field exactly as is."
   ]
  },
  {
   "cell_type": "code",
   "execution_count": 23,
   "metadata": {},
   "outputs": [
    {
     "name": "stdout",
     "output_type": "stream",
     "text": [
      "Overwriting newline2.yaml\n"
     ]
    }
   ],
   "source": [
    "%%writefile newline2.yaml\n",
    "bar: |\n",
    "  this is not a normal string it\n",
    "  spans more than\n",
    "  one line\n",
    "  see?"
   ]
  },
  {
   "cell_type": "code",
   "execution_count": 26,
   "metadata": {},
   "outputs": [
    {
     "name": "stdout",
     "output_type": "stream",
     "text": [
      "this is not a normal string it\n",
      "spans more than\n",
      "one line\n",
      "see?\n",
      "\n"
     ]
    }
   ],
   "source": [
    "import yaml\n",
    "f = open('newline2.yaml', 'r')\n",
    "dictionary = yaml.full_load(f)\n",
    "print(dictionary['bar'])"
   ]
  },
  {
   "cell_type": "markdown",
   "metadata": {},
   "source": [
    "### Nulls\n",
    "You enter nulls with a tilde or the unquoted null string literal."
   ]
  },
  {
   "cell_type": "code",
   "execution_count": 29,
   "metadata": {},
   "outputs": [
    {
     "name": "stdout",
     "output_type": "stream",
     "text": [
      "Overwriting null.yaml\n"
     ]
    }
   ],
   "source": [
    "%%writefile null.yaml\n",
    "---\n",
    "foo: ~\n",
    "bar: null"
   ]
  },
  {
   "cell_type": "code",
   "execution_count": 30,
   "metadata": {},
   "outputs": [
    {
     "name": "stdout",
     "output_type": "stream",
     "text": [
      "{'foo': None, 'bar': None}\n",
      "{\n",
      "    \"bar\": null,\n",
      "    \"foo\": null\n",
      "}\n"
     ]
    }
   ],
   "source": [
    "print_yaml(\"null.yaml\")"
   ]
  },
  {
   "cell_type": "markdown",
   "metadata": {},
   "source": [
    "### Booleans\n",
    "YAML indicates boolean values with the keywords True, On and Yes for true. False is indicated with False, Off, or No."
   ]
  },
  {
   "cell_type": "code",
   "execution_count": 31,
   "metadata": {},
   "outputs": [
    {
     "name": "stdout",
     "output_type": "stream",
     "text": [
      "Overwriting bool.yaml\n"
     ]
    }
   ],
   "source": [
    "%%writefile bool.yaml\n",
    "---\n",
    "foo: True\n",
    "bar: False\n",
    "foo2: true\n",
    "bar2: false\n",
    "light: On\n",
    "TV: Off\n",
    "aaa: yes\n",
    "bbb: no"
   ]
  },
  {
   "cell_type": "code",
   "execution_count": 32,
   "metadata": {},
   "outputs": [
    {
     "name": "stdout",
     "output_type": "stream",
     "text": [
      "{'foo': True, 'bar': False, 'foo2': True, 'bar2': False, 'light': True, 'TV': False, 'aaa': True, 'bbb': False}\n",
      "{\n",
      "    \"TV\": false,\n",
      "    \"aaa\": true,\n",
      "    \"bar\": false,\n",
      "    \"bar2\": false,\n",
      "    \"bbb\": false,\n",
      "    \"foo\": true,\n",
      "    \"foo2\": true,\n",
      "    \"light\": true\n",
      "}\n"
     ]
    }
   ],
   "source": [
    "print_yaml(\"bool.yaml\")"
   ]
  },
  {
   "cell_type": "markdown",
   "metadata": {},
   "source": [
    "### Arrays\n",
    "You can specify arrays or lists on a single line.\n",
    "\n"
   ]
  },
  {
   "cell_type": "code",
   "execution_count": 34,
   "metadata": {},
   "outputs": [
    {
     "name": "stdout",
     "output_type": "stream",
     "text": [
      "Overwriting array1.yaml\n"
     ]
    }
   ],
   "source": [
    "%%writefile array1.yaml\n",
    "---\n",
    "items: [ 1, 2, 3, 4, 5 ]\n",
    "names: [ \"one\", \"two\", \"three\", \"four\" ]"
   ]
  },
  {
   "cell_type": "code",
   "execution_count": 35,
   "metadata": {},
   "outputs": [
    {
     "name": "stdout",
     "output_type": "stream",
     "text": [
      "{'items': [1, 2, 3, 4, 5], 'names': ['one', 'two', 'three', 'four']}\n",
      "{\n",
      "    \"items\": [\n",
      "        1,\n",
      "        2,\n",
      "        3,\n",
      "        4,\n",
      "        5\n",
      "    ],\n",
      "    \"names\": [\n",
      "        \"one\",\n",
      "        \"two\",\n",
      "        \"three\",\n",
      "        \"four\"\n",
      "    ]\n",
      "}\n"
     ]
    }
   ],
   "source": [
    "print_yaml(\"array1.yaml\")"
   ]
  },
  {
   "cell_type": "markdown",
   "metadata": {},
   "source": [
    "Or, you can put them on multiple lines."
   ]
  },
  {
   "cell_type": "code",
   "execution_count": 36,
   "metadata": {},
   "outputs": [
    {
     "name": "stdout",
     "output_type": "stream",
     "text": [
      "Overwriting array2.yaml\n"
     ]
    }
   ],
   "source": [
    "%%writefile array2.yaml\n",
    "---\n",
    "items:\n",
    "  - 5\n",
    "  - 6 \n",
    "  - 7\n",
    "  - 8 \n",
    "  - 9 \n",
    "names:\n",
    "  - \"five\"\n",
    "  - \"six\"\n",
    "  - \"seven\"\n",
    "  - \"eight\""
   ]
  },
  {
   "cell_type": "code",
   "execution_count": 37,
   "metadata": {},
   "outputs": [
    {
     "name": "stdout",
     "output_type": "stream",
     "text": [
      "{'items': [5, 6, 7, 8, 9], 'names': ['five', 'six', 'seven', 'eight']}\n",
      "{\n",
      "    \"items\": [\n",
      "        5,\n",
      "        6,\n",
      "        7,\n",
      "        8,\n",
      "        9\n",
      "    ],\n",
      "    \"names\": [\n",
      "        \"five\",\n",
      "        \"six\",\n",
      "        \"seven\",\n",
      "        \"eight\"\n",
      "    ]\n",
      "}\n"
     ]
    }
   ],
   "source": [
    "print_yaml(\"array2.yaml\")"
   ]
  },
  {
   "cell_type": "markdown",
   "metadata": {},
   "source": [
    "The multiple line format is useful for lists that contain complex objects instead of scalars."
   ]
  },
  {
   "cell_type": "code",
   "execution_count": 35,
   "metadata": {},
   "outputs": [
    {
     "name": "stdout",
     "output_type": "stream",
     "text": [
      "Writing array3.yaml\n"
     ]
    }
   ],
   "source": [
    "%%writefile array3.yaml\n",
    "---\n",
    "items:\n",
    "  - things:\n",
    "      thing1: huey\n",
    "      things2: dewey\n",
    "      thing3: louie\n",
    "  - other things:\n",
    "      key: value"
   ]
  },
  {
   "cell_type": "code",
   "execution_count": 38,
   "metadata": {},
   "outputs": [
    {
     "name": "stdout",
     "output_type": "stream",
     "text": [
      "{'items': [{'things': {'thing1': 'huey', 'things2': 'dewey', 'thing3': 'louie'}}, {'other things': {'key': 'value'}}]}\n",
      "{\n",
      "    \"items\": [\n",
      "        {\n",
      "            \"things\": {\n",
      "                \"thing1\": \"huey\",\n",
      "                \"thing3\": \"louie\",\n",
      "                \"things2\": \"dewey\"\n",
      "            }\n",
      "        },\n",
      "        {\n",
      "            \"other things\": {\n",
      "                \"key\": \"value\"\n",
      "            }\n",
      "        }\n",
      "    ]\n",
      "}\n"
     ]
    }
   ],
   "source": [
    "print_yaml(\"array3.yaml\")"
   ]
  },
  {
   "cell_type": "markdown",
   "metadata": {},
   "source": [
    "An array can contain any valid YAML value. The values in a list do not have to be the same type.\n",
    "\n",
    "### Dictionaries\n",
    "We covered dictionaries above, but there’s more to them.\n",
    "\n",
    "Like arrays, you can put dictionaries inline. We saw this format above. It’s how python prints dictionaries."
   ]
  },
  {
   "cell_type": "code",
   "execution_count": 40,
   "metadata": {},
   "outputs": [
    {
     "name": "stdout",
     "output_type": "stream",
     "text": [
      "Overwriting dict1.yaml\n"
     ]
    }
   ],
   "source": [
    "%%writefile dict1.yaml\n",
    "---\n",
    "foo: { thing1: huey, thing2: louie, thing3: dewey }"
   ]
  },
  {
   "cell_type": "code",
   "execution_count": 41,
   "metadata": {},
   "outputs": [
    {
     "name": "stdout",
     "output_type": "stream",
     "text": [
      "{'foo': {'thing1': 'huey', 'thing2': 'louie', 'thing3': 'dewey'}}\n",
      "{\n",
      "    \"foo\": {\n",
      "        \"thing1\": \"huey\",\n",
      "        \"thing2\": \"louie\",\n",
      "        \"thing3\": \"dewey\"\n",
      "    }\n",
      "}\n"
     ]
    }
   ],
   "source": [
    "print_yaml(\"dict1.yaml\")"
   ]
  },
  {
   "cell_type": "code",
   "execution_count": 47,
   "metadata": {},
   "outputs": [
    {
     "name": "stdout",
     "output_type": "stream",
     "text": [
      "Overwriting dict2.yaml\n"
     ]
    }
   ],
   "source": [
    "%%writefile dict2.yaml\n",
    "---\n",
    "foo: bar\n",
    "bar: foo"
   ]
  },
  {
   "cell_type": "code",
   "execution_count": 48,
   "metadata": {},
   "outputs": [
    {
     "name": "stdout",
     "output_type": "stream",
     "text": [
      "{\n",
      "    \"bar\": \"foo\",\n",
      "    \"foo\": \"bar\"\n",
      "}\n"
     ]
    }
   ],
   "source": [
    "print_yaml(\"dict2.yaml\")"
   ]
  },
  {
   "cell_type": "code",
   "execution_count": 42,
   "metadata": {},
   "outputs": [
    {
     "name": "stdout",
     "output_type": "stream",
     "text": [
      "Overwriting dict3.yaml\n"
     ]
    }
   ],
   "source": [
    "%%writefile dict3.yaml\n",
    "---\n",
    "foo:\n",
    "  bar:\n",
    "    - bar\n",
    "    - rab\n",
    "    - plop"
   ]
  },
  {
   "cell_type": "code",
   "execution_count": 43,
   "metadata": {},
   "outputs": [
    {
     "name": "stdout",
     "output_type": "stream",
     "text": [
      "{'foo': {'bar': ['bar', 'rab', 'plop']}}\n",
      "{\n",
      "    \"foo\": {\n",
      "        \"bar\": [\n",
      "            \"bar\",\n",
      "            \"rab\",\n",
      "            \"plop\"\n",
      "        ]\n",
      "    }\n",
      "}\n"
     ]
    }
   ],
   "source": [
    "print_yaml(\"dict3.yaml\")"
   ]
  },
  {
   "cell_type": "markdown",
   "metadata": {},
   "source": [
    "## Tasks\n",
    "\n",
    "### Task 1\n",
    "\n",
    "Using data file 'interface-data.json' provided with the lab, create output that resembles the following by parsing the included JSON file:\n",
    "\n",
    "**Note: Use `dn`, `descr`, `speed` and `mtu` for parsing.**\n",
    "\n",
    "```\n",
    "Interface Status\n",
    "================================================================================\n",
    "DN                                                 Description    Speed    MTU  \n",
    "-------------------------------------------------- ------------  ------  ------\n",
    "topology/pod-1/node-201/sys/phys-[eth1/33]                       inherit   9150 \n",
    "topology/pod-1/node-201/sys/phys-[eth1/34]                       inherit   9150 \n",
    "topology/pod-1/node-201/sys/phys-[eth1/35]                       inherit   9150 \n",
    "```\n",
    "\n",
    "\n"
   ]
  },
  {
   "cell_type": "code",
   "execution_count": null,
   "metadata": {},
   "outputs": [],
   "source": [
    "import json\n",
    "\n",
    "jsondata = open('interface-data.json').read()\n",
    "## Complete your solution here\n"
   ]
  },
  {
   "cell_type": "markdown",
   "metadata": {},
   "source": [
    "### Task 2\n",
    "\n",
    "Using the same JSON input as `Task 6`, Find all interfaces with `dn` attributes starting with `topology/pod-1/node-103`. Store the results in another file named `interface-103.json`, **with the same format as the original input JSON file** in JSON format, with one pretty setting: `indent = 4`."
   ]
  },
  {
   "cell_type": "code",
   "execution_count": null,
   "metadata": {},
   "outputs": [],
   "source": [
    "import json\n",
    "\n",
    "jsondata = open('interface-data.json').read()\n",
    "## Complete your solution here\n"
   ]
  },
  {
   "cell_type": "markdown",
   "metadata": {},
   "source": [
    "### Task 3\n",
    "You are given a JSON file `task3_input.json`. Now perform the following operations on the JSON file:\n",
    "\n",
    "1. Read the JSON file `task3_input.json` and convert it to a dictory.\n",
    "1. Pretty print the JSON file.\n",
    "1. Change the value of filed A to B.\n",
    "1. Save the modified values as a new JSON file `task3_output1.json`.\n",
    "1. Save the modified values as a new YAML file `task3_output2.yaml`."
   ]
  },
  {
   "cell_type": "code",
   "execution_count": 1,
   "metadata": {
    "tags": []
   },
   "outputs": [],
   "source": [
    "## Complete your solution here\n"
   ]
  },
  {
   "cell_type": "markdown",
   "metadata": {},
   "source": [
    "## LAB 1 Grading\n",
    "\n",
    "A TA will check your outputs for the 3 tasks above in this Notebook file."
   ]
  },
  {
   "cell_type": "code",
   "execution_count": null,
   "metadata": {},
   "outputs": [],
   "source": []
  }
 ],
 "metadata": {
  "kernelspec": {
   "display_name": "Python 3 (ipykernel)",
   "language": "python",
   "name": "python3"
  },
  "language_info": {
   "codemirror_mode": {
    "name": "ipython",
    "version": 3
   },
   "file_extension": ".py",
   "mimetype": "text/x-python",
   "name": "python",
   "nbconvert_exporter": "python",
   "pygments_lexer": "ipython3",
   "version": "3.11.3"
  }
 },
 "nbformat": 4,
 "nbformat_minor": 4
}
