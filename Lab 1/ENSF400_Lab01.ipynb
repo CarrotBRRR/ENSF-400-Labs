{
 "cells": [
  {
   "cell_type": "markdown",
   "metadata": {},
   "source": [
    "# ENSF 400 - Winter 2024 - Lab 1 - Data Formats"
   ]
  },
  {
   "cell_type": "markdown",
   "metadata": {},
   "source": [
    "# JSON\n",
    "In this tutorial, you will learn to parse, read and write JSON in Python with the help of examples. Also, you will learn to convert JSON to dict and pretty print it.\n",
    "\n",
    "JSON (JavaScript Object Notation) is a popular data format used for representing structured data. It's common to transmit and receive data between a server and web application in JSON format.\n",
    "\n",
    "In Python, JSON exists as a string. For example:\n",
    "\n"
   ]
  },
  {
   "cell_type": "code",
   "execution_count": 2,
   "metadata": {},
   "outputs": [
    {
     "name": "stdout",
     "output_type": "stream",
     "text": [
      "{\"name\": \"Bob\", \"languages\": [\"Python\", \"Java\"]}\n"
     ]
    },
    {
     "data": {
      "text/plain": [
       "str"
      ]
     },
     "execution_count": 2,
     "metadata": {},
     "output_type": "execute_result"
    }
   ],
   "source": [
    "p = '{\"name\": \"Bob\", \"languages\": [\"Python\", \"Java\"]}'\n",
    "print(p)\n",
    "type(p)"
   ]
  },
  {
   "cell_type": "markdown",
   "metadata": {},
   "source": [
    "It's also common to store a JSON object in a file.\n",
    "\n",
    "## Import JSON Module\n",
    "To work with JSON (string, or file containing JSON object), you can use Python's json module. You need to import the module before you can use it.\n",
    "\n",
    "## Parse JSON in Python\n",
    "The json module makes it easy to parse JSON strings and files containing JSON object.\n",
    "\n",
    "### Example 1: Python JSON to dict\n",
    "You can parse a JSON string using json.loads() method. The method returns a dictionary.\n"
   ]
  },
  {
   "cell_type": "code",
   "execution_count": 5,
   "metadata": {},
   "outputs": [],
   "source": [
    "import json\n",
    "\n",
    "person = '{\"name\": \"Bob\", \"languages\": [\"English\", \"Fench\"]}'\n",
    "person_dict = json.loads(person)"
   ]
  },
  {
   "cell_type": "code",
   "execution_count": 6,
   "metadata": {},
   "outputs": [
    {
     "name": "stdout",
     "output_type": "stream",
     "text": [
      "{'name': 'Bob', 'languages': ['English', 'Fench']}\n"
     ]
    },
    {
     "data": {
      "text/plain": [
       "'Bob'"
      ]
     },
     "execution_count": 6,
     "metadata": {},
     "output_type": "execute_result"
    }
   ],
   "source": [
    "# Output: {'name': 'Bob', 'languages': ['English', 'Fench']}\n",
    "print(person_dict)\n",
    "type(person_dict)\n",
    "person_dict['name']"
   ]
  },
  {
   "cell_type": "code",
   "execution_count": 7,
   "metadata": {},
   "outputs": [
    {
     "name": "stdout",
     "output_type": "stream",
     "text": [
      "['English', 'Fench']\n"
     ]
    },
    {
     "data": {
      "text/plain": [
       "list"
      ]
     },
     "execution_count": 7,
     "metadata": {},
     "output_type": "execute_result"
    }
   ],
   "source": [
    "# Output: ['English', 'French']\n",
    "print(person_dict['languages'])\n",
    "type(person_dict['languages'])"
   ]
  },
  {
   "cell_type": "markdown",
   "metadata": {},
   "source": [
    "Here, person is a JSON string, and person_dict is a dictionary.\n",
    "\n",
    "### Example 2: Python read JSON file\n",
    "You can use `json.load()` method to read a file containing JSON object.\n",
    "\n",
    "Suppose, you have a file named `person.json` which contains a JSON object."
   ]
  },
  {
   "cell_type": "code",
   "execution_count": 8,
   "metadata": {},
   "outputs": [
    {
     "name": "stdout",
     "output_type": "stream",
     "text": [
      "Overwriting person.json\n"
     ]
    }
   ],
   "source": [
    "%%writefile person.json\n",
    "{\"name\": \"Bob\", \"languages\": [\"English\", \"Fench\"]}"
   ]
  },
  {
   "cell_type": "markdown",
   "metadata": {},
   "source": [
    "Here's how you can parse this file:"
   ]
  },
  {
   "cell_type": "code",
   "execution_count": 10,
   "metadata": {},
   "outputs": [
    {
     "name": "stdout",
     "output_type": "stream",
     "text": [
      "{'name': 'Bob', 'languages': ['English', 'Fench']}\n"
     ]
    },
    {
     "data": {
      "text/plain": [
       "dict"
      ]
     },
     "execution_count": 10,
     "metadata": {},
     "output_type": "execute_result"
    }
   ],
   "source": [
    "import json\n",
    "\n",
    "with open('person.json') as f:\n",
    "  data = json.load(f)\n",
    "\n",
    "# Output: {'name': 'Bob', 'languages': ['English', 'Fench']}\n",
    "print(data)\n",
    "type(data)"
   ]
  },
  {
   "cell_type": "markdown",
   "metadata": {},
   "source": [
    "Here, we have used the `open()` function to read the json file. Then, the file is parsed using `json.load()` method which gives us a dictionary named data.\n",
    "\n",
    "If you do not know how to read and write files in Python, we recommend you to check Python File I/O.\n",
    "\n",
    "## Python Convert to JSON string\n",
    "You can convert a dictionary to JSON string using `json.dumps()` method.\n",
    "\n",
    "### Example 3: Convert dict to JSON"
   ]
  },
  {
   "cell_type": "code",
   "execution_count": 7,
   "metadata": {},
   "outputs": [
    {
     "name": "stdout",
     "output_type": "stream",
     "text": [
      "{\"name\": \"Bob\", \"age\": 12, \"children\": null}\n"
     ]
    },
    {
     "data": {
      "text/plain": [
       "str"
      ]
     },
     "execution_count": 7,
     "metadata": {},
     "output_type": "execute_result"
    }
   ],
   "source": [
    "import json\n",
    "\n",
    "person_dict = {\n",
    "    'name': 'Bob',\n",
    "    'age': 12,\n",
    "    'children': None\n",
    "}\n",
    "person_json = json.dumps(person_dict)\n",
    "\n",
    "# Output: {\"name\": \"Bob\", \"age\": 12, \"children\": null}\n",
    "print(person_json)\n",
    "type(person_json)"
   ]
  },
  {
   "cell_type": "markdown",
   "metadata": {},
   "source": [
    "Here's a table showing Python objects and their equivalent conversion to JSON.\n",
    "\n",
    "| Python          | JSON Equivalent |\n",
    "|-----------------|-----------------|\n",
    "| dict            | object          |\n",
    "| list, tuple     | array           |\n",
    "| str             | string          |\n",
    "| int, float, int | number          |\n",
    "| True            | true            |\n",
    "| False           | false           |\n",
    "| None            | null            |\n",
    "\n",
    "## Writing JSON to a file\n",
    "To write JSON to a file in Python, we can use `json.dump()` method.\n",
    "\n",
    "### Example 4: Writing JSON to a file\n"
   ]
  },
  {
   "cell_type": "code",
   "execution_count": 13,
   "metadata": {},
   "outputs": [],
   "source": [
    "import json\n",
    "\n",
    "person_dict = {\n",
    "    \"name\": \"Bob\",\n",
    "    \"languages\": [\"English\", \"Fench\"],\n",
    "    \"married\": True,\n",
    "    \"age\": 32\n",
    "}\n",
    "\n",
    "with open('person.txt', 'w') as json_file:\n",
    "  json.dump(person_dict, json_file)\n"
   ]
  },
  {
   "cell_type": "markdown",
   "metadata": {},
   "source": [
    "In the above program, we have opened a file named person.txt in writing mode using 'w'. If the file doesn't already exist, it will be created. Then, `json.dump()` transforms person_dict to a JSON string which will be saved in the person.txt file.\n",
    "\n",
    "When you run the program, the person.txt file will be created. The file has the text output inside it.\n",
    "\n",
    "## Python pretty print JSON\n",
    "To analyze and debug JSON data, we may need to print it in a more readable format. This can be done by passing additional parameters indent and sort_keys to `json.dumps()` and `json.dump()` method.\n",
    "\n",
    "### Example 5: Python pretty print JSON\n",
    "\n"
   ]
  },
  {
   "cell_type": "code",
   "execution_count": 19,
   "metadata": {},
   "outputs": [
    {
     "name": "stdout",
     "output_type": "stream",
     "text": [
      "{\n",
      "    \"name\": \"Bob\",\n",
      "    \"languages\": \"English\",\n",
      "    \"numbers\": [\n",
      "        2,\n",
      "        1.6,\n",
      "        null\n",
      "    ]\n",
      "}\n"
     ]
    }
   ],
   "source": [
    "import json\n",
    "\n",
    "person_string = '{\"name\": \"Bob\", \"languages\": \"English\", \"numbers\": [2, 1.6, null]}'\n",
    "\n",
    "# Getting dictionary\n",
    "person_dict = json.loads(person_string)\n",
    "\n",
    "# Pretty Printing JSON string back\n",
    "print(json.dumps(person_dict, indent = 4, sort_keys=False))\n"
   ]
  },
  {
   "cell_type": "markdown",
   "metadata": {},
   "source": [
    "In the above program, we have used 4 spaces for indentation. And, the keys are sorted in ascending order. By the way, the default value of `indent = None`. And, the default value of `sort_keys = False`."
   ]
  },
  {
   "cell_type": "markdown",
   "metadata": {},
   "source": [
    "# YAML\n",
    "\n",
    "_YAML Ain’t Markup Language_ ([YAML](https://yaml.org/)) is a serialization language that has steadily increased in popularity over the last few years.\n",
    "\n",
    "It’s often used as **a format for configuration files**, but its object serialization abilities make it a viable replacement for languages like JSON. YAML has broad language support and maps easily into native data structures. It’s also **easy for humans to read**, which is why it’s a good choice for configuration.\n",
    "\n",
    "The YAML acronym was shorthand for _Yet Another Markup Language_. But the maintainers renamed it to _YAML Ain’t Markup Language_ to place more emphasis on its data-oriented features.\n",
    "\n",
    "## A Simple YAML Example\n",
    "\n",
    "Let’s take a look at a YAML file for a brief overview.\n"
   ]
  },
  {
   "cell_type": "code",
   "execution_count": 8,
   "metadata": {},
   "outputs": [
    {
     "name": "stdout",
     "output_type": "stream",
     "text": [
      "Overwriting simple.yaml\n"
     ]
    }
   ],
   "source": [
    "%%writefile simple.yaml\n",
    "--- \n",
    " doe: \"a deer, a female deer\"\n",
    " ray: \"a drop of golden sun\"\n",
    " pi: 3.14159\n",
    " xmas: true\n",
    " french-hens: 3\n",
    " calling-birds: \n",
    "   - huey\n",
    "   - dewey\n",
    "   - louie\n",
    "   - fred\n",
    " xmas-fifth-day: \n",
    "   calling-birds: four\n",
    "   french-hens: 3\n",
    "   golden-rings: 5\n",
    "   partridges: \n",
    "     count: 1\n",
    "     location: \"a pear tree\"\n",
    "   turtle-doves: two"
   ]
  },
  {
   "cell_type": "markdown",
   "metadata": {},
   "source": [
    "The file starts with three dashes. These dashes indicate the start of a new YAML document. YAML supports multiple documents, and compliant parsers will recognize each set of dashes as the beginning of a new one.\n",
    "\n",
    "Next, we see the construct that makes up most of a typical YAML document: a key-value pair. `Doe` is a key that points to a string value: `a deer, a female deer`.\n",
    "\n",
    "YAML supports more than just string values. The file starts with six key-value pairs. They have four different data types. `Doe` and `ray` are strings. `Pi` is a floating-point number. `Xmas` is a boolean. `French-hens` is an integer. You can enclose strings in single or double-quotes or no quotes at all. YAML recognizes unquoted numerals as integers or floating point.\n",
    "\n",
    "The seventh item is an array. `Calling-birds` has four elements, each denoted by an opening dash.\n",
    "\n",
    "I indented the elements in `calling-birds` with two spaces. **Indentation is how YAML denotes nesting**. The number of spaces can vary from file to file, but <u>tabs are not allowed</u>. We’ll look at how indentation works below.\n",
    "\n",
    "Finally, we see `xmas-fifth-day`, which has five more elements inside it, each of them indented. We can view `xmas-fifth-day` as a dictionary that contains two string, two integers, and another dictionary. YAML supports nesting of key-values, and mixing types.\n",
    "\n",
    "Before we take a deeper dive, let’s look at how this document looks in JSON. You may use an online [JSON to YAML converter](https://www.json2yaml.com/). The result is pasted below:\n",
    "\n",
    "```json\n",
    "{\n",
    "  \"doe\": \"a deer, a female deer\",\n",
    "  \"ray\": \"a drop of golden sun\",\n",
    "  \"pi\": 3.14159,\n",
    "  \"xmas\": true,\n",
    "  \"french-hens\": 3,\n",
    "  \"calling-birds\": [\n",
    "     \"huey\",\n",
    "     \"dewey\",\n",
    "     \"louie\",\n",
    "     \"fred\"\n",
    "  ],\n",
    "  \"xmas-fifth-day\": {\n",
    "  \"calling-birds\": \"four\",\n",
    "  \"french-hens\": 3,\n",
    "  \"golden-rings\": 5,\n",
    "  \"partridges\": {\n",
    "    \"count\": 1,\n",
    "    \"location\": \"a pear tree\"\n",
    "  },\n",
    "  \"turtle-doves\": \"two\"\n",
    "  }\n",
    "}\n",
    "```"
   ]
  },
  {
   "cell_type": "markdown",
   "metadata": {},
   "source": [
    "JSON and YAML have similar capabilities, and you can convert most documents between the formats.\n",
    "\n",
    "## Outline Indentation and Whitespace\n",
    "Whitespace is part of YAML’s formatting. Unless otherwise indicated, newlines indicate the end of a field.\n",
    "\n",
    "You structure a YAML document with indentation. The indentation level can be one or more spaces. The specification forbids tabs because tools treat them differently.\n",
    "\n",
    "Consider this document. The items inside `stuff` are indented with two spaces."
   ]
  },
  {
   "cell_type": "code",
   "execution_count": 2,
   "metadata": {},
   "outputs": [
    {
     "name": "stdout",
     "output_type": "stream",
     "text": [
      "Overwriting foo.yaml\n"
     ]
    }
   ],
   "source": [
    "%%writefile foo.yaml\n",
    "foo: bar\n",
    "pleh: help\n",
    "stuff:\n",
    "  foo: bar\n",
    "  bar: foo"
   ]
  },
  {
   "cell_type": "markdown",
   "metadata": {},
   "source": [
    "The `PyYAML` package will map a YAML file stream into a dictionary. We’ll iterate through the outermost set of keys and values and print the key and the string representation of each value."
   ]
  },
  {
   "cell_type": "code",
   "execution_count": 48,
   "metadata": {},
   "outputs": [
    {
     "ename": "ModuleNotFoundError",
     "evalue": "No module named 'Pyyaml'",
     "output_type": "error",
     "traceback": [
      "\u001b[1;31m---------------------------------------------------------------------------\u001b[0m",
      "\u001b[1;31mModuleNotFoundError\u001b[0m                       Traceback (most recent call last)",
      "Cell \u001b[1;32mIn[48], line 1\u001b[0m\n\u001b[1;32m----> 1\u001b[0m \u001b[38;5;28;01mimport\u001b[39;00m \u001b[38;5;21;01mPyyaml\u001b[39;00m\n\u001b[0;32m      2\u001b[0m \u001b[38;5;28;01mimport\u001b[39;00m \u001b[38;5;21;01mjson\u001b[39;00m\n\u001b[0;32m      4\u001b[0m \u001b[38;5;28;01mdef\u001b[39;00m \u001b[38;5;21mprint_yaml\u001b[39m(filename):\n",
      "\u001b[1;31mModuleNotFoundError\u001b[0m: No module named 'Pyyaml'"
     ]
    }
   ],
   "source": [
    "import yaml\n",
    "import json\n",
    "\n",
    "def print_yaml(filename):\n",
    "    f = open(filename, 'r')\n",
    "    dictionary = yaml.full_load(f)\n",
    "    print(json.dumps(dictionary, indent = 4, sort_keys=False))\n",
    "\n",
    "\n",
    "print_yaml(\"foo.yaml\")"
   ]
  },
  {
   "cell_type": "markdown",
   "metadata": {},
   "source": [
    "YAML’s simple nesting gives us the power to build sophisticated objects. But that’s only the beginning."
   ]
  },
  {
   "cell_type": "markdown",
   "metadata": {},
   "source": [
    "## Comments\n",
    "Comments begin with a pound sign. They can appear after a document value or take up an entire line.\n",
    "```yaml\n",
    "---\n",
    "# This is a full line comment\n",
    "foo: bar # this is a comment, too\n",
    "```"
   ]
  },
  {
   "cell_type": "markdown",
   "metadata": {},
   "source": [
    "## YAML Datatypes\n",
    "\n",
    "Values in YAML’s key-value pairs are scalar. They act like the scalar types in languages like Perl, Javascript, and Python. It’s usually good enough to enclose strings in quotes, leave numbers unquoted, and let the parser figure it out.\n",
    "\n",
    "But that’s only the tip of the iceberg. YAML is capable of a great deal more.\n",
    "\n",
    "### Key-Value Pairs and Dictionaries\n",
    "The key-value is YAML’s basic building block. Every item in a YAML document is a member of at least one dictionary. The key is always a string. The value is a scalar so that it can be any datatype.\n",
    "\n",
    "So, as we’ve already seen, the value can be a string, a number, or another dictionary.\n",
    "\n",
    "### Numeric types\n",
    "YAML recognizes numeric types. We saw floating point and integers above. YAML supports several other numeric types.\n",
    "\n",
    "An integer can be decimal, hexidecimal, or octal."
   ]
  },
  {
   "cell_type": "code",
   "execution_count": 8,
   "metadata": {},
   "outputs": [
    {
     "name": "stdout",
     "output_type": "stream",
     "text": [
      "Overwriting numeric.yaml\n"
     ]
    }
   ],
   "source": [
    "%%writefile numeric.yaml\n",
    "---\n",
    " foo: 12345\n",
    " bar: 0x12d4\n",
    " plop: 023332"
   ]
  },
  {
   "cell_type": "code",
   "execution_count": 9,
   "metadata": {},
   "outputs": [
    {
     "name": "stdout",
     "output_type": "stream",
     "text": [
      "{'foo': 12345, 'bar': 4820, 'plop': 9946}\n",
      "{\n",
      "    \"bar\": 4820,\n",
      "    \"foo\": 12345,\n",
      "    \"plop\": 9946\n",
      "}\n"
     ]
    }
   ],
   "source": [
    "print_yaml(\"numeric.yaml\")"
   ]
  },
  {
   "cell_type": "markdown",
   "metadata": {},
   "source": [
    "As you expect, `Ox` indicates a value is hex, and a _leading zero_ denotes an octal value.\n",
    "\n",
    "YAML supports both fixed and exponential floating point numbers."
   ]
  },
  {
   "cell_type": "code",
   "execution_count": 10,
   "metadata": {},
   "outputs": [
    {
     "name": "stdout",
     "output_type": "stream",
     "text": [
      "Overwriting float.yaml\n"
     ]
    }
   ],
   "source": [
    "%%writefile float.yaml\n",
    "---\n",
    " foo: 1230.15\n",
    " bar:  12.3015e+05"
   ]
  },
  {
   "cell_type": "code",
   "execution_count": 13,
   "metadata": {},
   "outputs": [
    {
     "name": "stdout",
     "output_type": "stream",
     "text": [
      "{\n",
      "    \"foo\": 1230.15,\n",
      "    \"bar\": 1230150.0\n",
      "}\n"
     ]
    }
   ],
   "source": [
    "print_yaml(\"float.yaml\")"
   ]
  },
  {
   "cell_type": "markdown",
   "metadata": {},
   "source": [
    "Finally, we can represent not-a-number (NAN) or infinity."
   ]
  },
  {
   "cell_type": "code",
   "execution_count": 14,
   "metadata": {},
   "outputs": [
    {
     "name": "stdout",
     "output_type": "stream",
     "text": [
      "Overwriting nan.yaml\n"
     ]
    }
   ],
   "source": [
    "%%writefile nan.yaml\n",
    "---\n",
    "foo: .inf\n",
    "bar: -.Inf\n",
    "plop: .NAN"
   ]
  },
  {
   "cell_type": "code",
   "execution_count": 13,
   "metadata": {},
   "outputs": [
    {
     "name": "stdout",
     "output_type": "stream",
     "text": [
      "{'foo': inf, 'bar': -inf, 'plop': nan}\n",
      "{\n",
      "    \"bar\": -Infinity,\n",
      "    \"foo\": Infinity,\n",
      "    \"plop\": NaN\n",
      "}\n"
     ]
    }
   ],
   "source": [
    "print_yaml(\"nan.yaml\")"
   ]
  },
  {
   "cell_type": "markdown",
   "metadata": {},
   "source": [
    "### Strings\n",
    "YAML strings are Unicode. In most situations, you don’t have to specify them in quotes."
   ]
  },
  {
   "cell_type": "code",
   "execution_count": 14,
   "metadata": {},
   "outputs": [
    {
     "name": "stdout",
     "output_type": "stream",
     "text": [
      "Overwriting strings.yaml\n"
     ]
    }
   ],
   "source": [
    "%%writefile strings.yaml\n",
    "---\n",
    "foo: \"this is not a normal string\\n\"\n",
    "bar: this is not a normal string\\n"
   ]
  },
  {
   "cell_type": "code",
   "execution_count": 15,
   "metadata": {},
   "outputs": [
    {
     "name": "stdout",
     "output_type": "stream",
     "text": [
      "{'foo': 'this is not a normal string\\n', 'bar': 'this is not a normal string\\\\n'}\n",
      "{\n",
      "    \"bar\": \"this is not a normal string\\\\n\",\n",
      "    \"foo\": \"this is not a normal string\\n\"\n",
      "}\n"
     ]
    }
   ],
   "source": [
    "print_yaml(\"strings.yaml\")"
   ]
  },
  {
   "cell_type": "markdown",
   "metadata": {},
   "source": [
    "YAML processes the first value as ending with a carriage return and linefeed. Since the second value is not quoted, YAML treats the `\\n` as two characters.\n",
    "\n",
    "YAML will not escape strings with single quotes, but the single quotes do avoid having string contents interpreted as document formatting.\n",
    "\n",
    "String values can span more than one line. With the fold (greater than) character, you can specify a string in a block.\n"
   ]
  },
  {
   "cell_type": "code",
   "execution_count": 21,
   "metadata": {},
   "outputs": [
    {
     "name": "stdout",
     "output_type": "stream",
     "text": [
      "Overwriting newline.yaml\n"
     ]
    }
   ],
   "source": [
    "%%writefile newline.yaml\n",
    "bar: >\n",
    "  this is not a normal string it\n",
    "  spans more than\n",
    "  one line\n",
    "  see?"
   ]
  },
  {
   "cell_type": "code",
   "execution_count": 27,
   "metadata": {},
   "outputs": [
    {
     "name": "stdout",
     "output_type": "stream",
     "text": [
      "this is not a normal string it spans more than one line see?\n",
      "\n"
     ]
    }
   ],
   "source": [
    "import yaml\n",
    "f = open('newline.yaml', 'r')\n",
    "dictionary = yaml.full_load(f)\n",
    "print(dictionary['bar'])"
   ]
  },
  {
   "cell_type": "markdown",
   "metadata": {},
   "source": [
    "The block (pipe) character has a similar function, but YAML interprets the field exactly as is."
   ]
  },
  {
   "cell_type": "code",
   "execution_count": 23,
   "metadata": {},
   "outputs": [
    {
     "name": "stdout",
     "output_type": "stream",
     "text": [
      "Overwriting newline2.yaml\n"
     ]
    }
   ],
   "source": [
    "%%writefile newline2.yaml\n",
    "bar: |\n",
    "  this is not a normal string it\n",
    "  spans more than\n",
    "  one line\n",
    "  see?"
   ]
  },
  {
   "cell_type": "code",
   "execution_count": 26,
   "metadata": {},
   "outputs": [
    {
     "name": "stdout",
     "output_type": "stream",
     "text": [
      "this is not a normal string it\n",
      "spans more than\n",
      "one line\n",
      "see?\n",
      "\n"
     ]
    }
   ],
   "source": [
    "import yaml\n",
    "f = open('newline2.yaml', 'r')\n",
    "dictionary = yaml.full_load(f)\n",
    "print(dictionary['bar'])"
   ]
  },
  {
   "cell_type": "markdown",
   "metadata": {},
   "source": [
    "### Nulls\n",
    "You enter nulls with a tilde or the unquoted null string literal."
   ]
  },
  {
   "cell_type": "code",
   "execution_count": 29,
   "metadata": {},
   "outputs": [
    {
     "name": "stdout",
     "output_type": "stream",
     "text": [
      "Overwriting null.yaml\n"
     ]
    }
   ],
   "source": [
    "%%writefile null.yaml\n",
    "---\n",
    "foo: ~\n",
    "bar: null"
   ]
  },
  {
   "cell_type": "code",
   "execution_count": 30,
   "metadata": {},
   "outputs": [
    {
     "name": "stdout",
     "output_type": "stream",
     "text": [
      "{'foo': None, 'bar': None}\n",
      "{\n",
      "    \"bar\": null,\n",
      "    \"foo\": null\n",
      "}\n"
     ]
    }
   ],
   "source": [
    "print_yaml(\"null.yaml\")"
   ]
  },
  {
   "cell_type": "markdown",
   "metadata": {},
   "source": [
    "### Booleans\n",
    "YAML indicates boolean values with the keywords True, On and Yes for true. False is indicated with False, Off, or No."
   ]
  },
  {
   "cell_type": "code",
   "execution_count": 31,
   "metadata": {},
   "outputs": [
    {
     "name": "stdout",
     "output_type": "stream",
     "text": [
      "Overwriting bool.yaml\n"
     ]
    }
   ],
   "source": [
    "%%writefile bool.yaml\n",
    "---\n",
    "foo: True\n",
    "bar: False\n",
    "foo2: true\n",
    "bar2: false\n",
    "light: On\n",
    "TV: Off\n",
    "aaa: yes\n",
    "bbb: no"
   ]
  },
  {
   "cell_type": "code",
   "execution_count": 32,
   "metadata": {},
   "outputs": [
    {
     "name": "stdout",
     "output_type": "stream",
     "text": [
      "{'foo': True, 'bar': False, 'foo2': True, 'bar2': False, 'light': True, 'TV': False, 'aaa': True, 'bbb': False}\n",
      "{\n",
      "    \"TV\": false,\n",
      "    \"aaa\": true,\n",
      "    \"bar\": false,\n",
      "    \"bar2\": false,\n",
      "    \"bbb\": false,\n",
      "    \"foo\": true,\n",
      "    \"foo2\": true,\n",
      "    \"light\": true\n",
      "}\n"
     ]
    }
   ],
   "source": [
    "print_yaml(\"bool.yaml\")"
   ]
  },
  {
   "cell_type": "markdown",
   "metadata": {},
   "source": [
    "### Arrays\n",
    "You can specify arrays or lists on a single line.\n",
    "\n"
   ]
  },
  {
   "cell_type": "code",
   "execution_count": 34,
   "metadata": {},
   "outputs": [
    {
     "name": "stdout",
     "output_type": "stream",
     "text": [
      "Overwriting array1.yaml\n"
     ]
    }
   ],
   "source": [
    "%%writefile array1.yaml\n",
    "---\n",
    "items: [ 1, 2, 3, 4, 5 ]\n",
    "names: [ \"one\", \"two\", \"three\", \"four\" ]"
   ]
  },
  {
   "cell_type": "code",
   "execution_count": 35,
   "metadata": {},
   "outputs": [
    {
     "name": "stdout",
     "output_type": "stream",
     "text": [
      "{'items': [1, 2, 3, 4, 5], 'names': ['one', 'two', 'three', 'four']}\n",
      "{\n",
      "    \"items\": [\n",
      "        1,\n",
      "        2,\n",
      "        3,\n",
      "        4,\n",
      "        5\n",
      "    ],\n",
      "    \"names\": [\n",
      "        \"one\",\n",
      "        \"two\",\n",
      "        \"three\",\n",
      "        \"four\"\n",
      "    ]\n",
      "}\n"
     ]
    }
   ],
   "source": [
    "print_yaml(\"array1.yaml\")"
   ]
  },
  {
   "cell_type": "markdown",
   "metadata": {},
   "source": [
    "Or, you can put them on multiple lines."
   ]
  },
  {
   "cell_type": "code",
   "execution_count": 36,
   "metadata": {},
   "outputs": [
    {
     "name": "stdout",
     "output_type": "stream",
     "text": [
      "Overwriting array2.yaml\n"
     ]
    }
   ],
   "source": [
    "%%writefile array2.yaml\n",
    "---\n",
    "items:\n",
    "  - 5\n",
    "  - 6 \n",
    "  - 7\n",
    "  - 8 \n",
    "  - 9 \n",
    "names:\n",
    "  - \"five\"\n",
    "  - \"six\"\n",
    "  - \"seven\"\n",
    "  - \"eight\""
   ]
  },
  {
   "cell_type": "code",
   "execution_count": 37,
   "metadata": {},
   "outputs": [
    {
     "name": "stdout",
     "output_type": "stream",
     "text": [
      "{'items': [5, 6, 7, 8, 9], 'names': ['five', 'six', 'seven', 'eight']}\n",
      "{\n",
      "    \"items\": [\n",
      "        5,\n",
      "        6,\n",
      "        7,\n",
      "        8,\n",
      "        9\n",
      "    ],\n",
      "    \"names\": [\n",
      "        \"five\",\n",
      "        \"six\",\n",
      "        \"seven\",\n",
      "        \"eight\"\n",
      "    ]\n",
      "}\n"
     ]
    }
   ],
   "source": [
    "print_yaml(\"array2.yaml\")"
   ]
  },
  {
   "cell_type": "markdown",
   "metadata": {},
   "source": [
    "The multiple line format is useful for lists that contain complex objects instead of scalars."
   ]
  },
  {
   "cell_type": "code",
   "execution_count": 35,
   "metadata": {},
   "outputs": [
    {
     "name": "stdout",
     "output_type": "stream",
     "text": [
      "Writing array3.yaml\n"
     ]
    }
   ],
   "source": [
    "%%writefile array3.yaml\n",
    "---\n",
    "items:\n",
    "  - things:\n",
    "      thing1: huey\n",
    "      things2: dewey\n",
    "      thing3: louie\n",
    "  - other things:\n",
    "      key: value"
   ]
  },
  {
   "cell_type": "code",
   "execution_count": 38,
   "metadata": {},
   "outputs": [
    {
     "name": "stdout",
     "output_type": "stream",
     "text": [
      "{'items': [{'things': {'thing1': 'huey', 'things2': 'dewey', 'thing3': 'louie'}}, {'other things': {'key': 'value'}}]}\n",
      "{\n",
      "    \"items\": [\n",
      "        {\n",
      "            \"things\": {\n",
      "                \"thing1\": \"huey\",\n",
      "                \"thing3\": \"louie\",\n",
      "                \"things2\": \"dewey\"\n",
      "            }\n",
      "        },\n",
      "        {\n",
      "            \"other things\": {\n",
      "                \"key\": \"value\"\n",
      "            }\n",
      "        }\n",
      "    ]\n",
      "}\n"
     ]
    }
   ],
   "source": [
    "print_yaml(\"array3.yaml\")"
   ]
  },
  {
   "cell_type": "markdown",
   "metadata": {},
   "source": [
    "An array can contain any valid YAML value. The values in a list do not have to be the same type.\n",
    "\n",
    "### Dictionaries\n",
    "We covered dictionaries above, but there’s more to them.\n",
    "\n",
    "Like arrays, you can put dictionaries inline. We saw this format above. It’s how python prints dictionaries."
   ]
  },
  {
   "cell_type": "code",
   "execution_count": 51,
   "metadata": {},
   "outputs": [
    {
     "name": "stdout",
     "output_type": "stream",
     "text": [
      "Overwriting dict1.yaml\n"
     ]
    }
   ],
   "source": [
    "%%writefile dict1.yaml\n",
    "---\n",
    "foo: { thing1: huey, thing2: louie, thing3: dewey }"
   ]
  },
  {
   "cell_type": "code",
   "execution_count": 53,
   "metadata": {},
   "outputs": [
    {
     "ename": "NameError",
     "evalue": "name 'print_yaml' is not defined",
     "output_type": "error",
     "traceback": [
      "\u001b[1;31m---------------------------------------------------------------------------\u001b[0m",
      "\u001b[1;31mNameError\u001b[0m                                 Traceback (most recent call last)",
      "Cell \u001b[1;32mIn[53], line 1\u001b[0m\n\u001b[1;32m----> 1\u001b[0m \u001b[43mprint_yaml\u001b[49m(\u001b[38;5;124m\"\u001b[39m\u001b[38;5;124mdict1.yaml\u001b[39m\u001b[38;5;124m\"\u001b[39m)\n",
      "\u001b[1;31mNameError\u001b[0m: name 'print_yaml' is not defined"
     ]
    }
   ],
   "source": [
    "print_yaml(\"dict1.yaml\")"
   ]
  },
  {
   "cell_type": "code",
   "execution_count": 47,
   "metadata": {},
   "outputs": [
    {
     "name": "stdout",
     "output_type": "stream",
     "text": [
      "Overwriting dict2.yaml\n"
     ]
    }
   ],
   "source": [
    "%%writefile dict2.yaml\n",
    "---\n",
    "foo: bar\n",
    "bar: foo"
   ]
  },
  {
   "cell_type": "code",
   "execution_count": 48,
   "metadata": {},
   "outputs": [
    {
     "name": "stdout",
     "output_type": "stream",
     "text": [
      "{\n",
      "    \"bar\": \"foo\",\n",
      "    \"foo\": \"bar\"\n",
      "}\n"
     ]
    }
   ],
   "source": [
    "print_yaml(\"dict2.yaml\")"
   ]
  },
  {
   "cell_type": "code",
   "execution_count": 42,
   "metadata": {},
   "outputs": [
    {
     "name": "stdout",
     "output_type": "stream",
     "text": [
      "Overwriting dict3.yaml\n"
     ]
    }
   ],
   "source": [
    "%%writefile dict3.yaml\n",
    "---\n",
    "foo:\n",
    "  bar:\n",
    "    - bar\n",
    "    - rab\n",
    "    - plop"
   ]
  },
  {
   "cell_type": "code",
   "execution_count": 54,
   "metadata": {},
   "outputs": [
    {
     "ename": "NameError",
     "evalue": "name 'print_yaml' is not defined",
     "output_type": "error",
     "traceback": [
      "\u001b[1;31m---------------------------------------------------------------------------\u001b[0m",
      "\u001b[1;31mNameError\u001b[0m                                 Traceback (most recent call last)",
      "Cell \u001b[1;32mIn[54], line 1\u001b[0m\n\u001b[1;32m----> 1\u001b[0m \u001b[43mprint_yaml\u001b[49m(\u001b[38;5;124m\"\u001b[39m\u001b[38;5;124mdict3.yaml\u001b[39m\u001b[38;5;124m\"\u001b[39m)\n",
      "\u001b[1;31mNameError\u001b[0m: name 'print_yaml' is not defined"
     ]
    }
   ],
   "source": [
    "print_yaml(\"dict3.yaml\")"
   ]
  },
  {
   "cell_type": "markdown",
   "metadata": {},
   "source": [
    "## Tasks\n",
    "\n",
    "### Task 1\n",
    "\n",
    "Using data file 'interface-data.json' provided with the lab, create output that resembles the following by parsing the included JSON file:\n",
    "\n",
    "**Note: Use `dn`, `descr`, `speed` and `mtu` for parsing.**\n",
    "\n",
    "```\n",
    "Interface Status\n",
    "================================================================================\n",
    "DN                                                 Description    Speed    MTU  \n",
    "-------------------------------------------------- ------------  ------  ------\n",
    "topology/pod-1/node-201/sys/phys-[eth1/33]                       inherit   9150 \n",
    "topology/pod-1/node-201/sys/phys-[eth1/34]                       inherit   9150 \n",
    "topology/pod-1/node-201/sys/phys-[eth1/35]                       inherit   9150 \n",
    "```\n",
    "\n",
    "\n"
   ]
  },
  {
   "cell_type": "code",
   "execution_count": 16,
   "metadata": {},
   "outputs": [
    {
     "name": "stdout",
     "output_type": "stream",
     "text": [
      "Interface Status\n",
      "\n",
      "================================================================================\n",
      "\n",
      "DN                                                 Description    Speed    MTU\n",
      "\n",
      "-------------------------------------------------- ------------  ------  ------\n",
      "\n",
      "topology/pod-1/node-201/sys/phys-[eth1/33]        \t\t\t inherit  9150\n",
      "topology/pod-1/node-201/sys/phys-[eth1/34]        \t\t\t inherit  9150\n",
      "topology/pod-1/node-201/sys/phys-[eth1/35]        \t\t\t inherit  9150\n",
      "topology/pod-1/node-201/sys/phys-[eth1/36]        \t\t\t inherit  9150\n",
      "topology/pod-1/node-201/sys/phys-[eth1/1]         \t\t\t inherit  9150\n",
      "topology/pod-1/node-201/sys/phys-[eth1/2]         \t\t\t inherit  9150\n",
      "topology/pod-1/node-201/sys/phys-[eth1/3]         \t\t\t inherit  9150\n",
      "topology/pod-1/node-201/sys/phys-[eth1/4]         \t\t\t inherit  9150\n",
      "topology/pod-1/node-201/sys/phys-[eth1/5]         \t\t\t inherit  9150\n",
      "topology/pod-1/node-201/sys/phys-[eth1/6]         \t\t\t inherit  9150\n",
      "topology/pod-1/node-201/sys/phys-[eth1/7]         \t\t\t inherit  9150\n",
      "topology/pod-1/node-201/sys/phys-[eth1/8]         \t\t\t inherit  9150\n",
      "topology/pod-1/node-201/sys/phys-[eth1/9]         \t\t\t inherit  9150\n",
      "topology/pod-1/node-201/sys/phys-[eth1/10]        \t\t\t inherit  9150\n",
      "topology/pod-1/node-201/sys/phys-[eth1/11]        \t\t\t inherit  9150\n",
      "topology/pod-1/node-201/sys/phys-[eth1/12]        \t\t\t inherit  9150\n",
      "topology/pod-1/node-201/sys/phys-[eth1/13]        \t\t\t inherit  9150\n",
      "topology/pod-1/node-201/sys/phys-[eth1/14]        \t\t\t inherit  9150\n",
      "topology/pod-1/node-201/sys/phys-[eth1/15]        \t\t\t inherit  9150\n",
      "topology/pod-1/node-201/sys/phys-[eth1/16]        \t\t\t inherit  9150\n",
      "topology/pod-1/node-201/sys/phys-[eth1/17]        \t\t\t inherit  9150\n",
      "topology/pod-1/node-201/sys/phys-[eth1/18]        \t\t\t inherit  9150\n",
      "topology/pod-1/node-201/sys/phys-[eth1/19]        \t\t\t inherit  9150\n",
      "topology/pod-1/node-201/sys/phys-[eth1/20]        \t\t\t inherit  9150\n",
      "topology/pod-1/node-201/sys/phys-[eth1/21]        \t\t\t inherit  9150\n",
      "topology/pod-1/node-201/sys/phys-[eth1/22]        \t\t\t inherit  9150\n",
      "topology/pod-1/node-201/sys/phys-[eth1/23]        \t\t\t inherit  9150\n",
      "topology/pod-1/node-201/sys/phys-[eth1/24]        \t\t\t inherit  9150\n",
      "topology/pod-1/node-201/sys/phys-[eth1/25]        \t\t\t inherit  9150\n",
      "topology/pod-1/node-201/sys/phys-[eth1/26]        \t\t\t inherit  9150\n",
      "topology/pod-1/node-201/sys/phys-[eth1/27]        \t\t\t inherit  9150\n",
      "topology/pod-1/node-201/sys/phys-[eth1/28]        \t\t\t inherit  9150\n",
      "topology/pod-1/node-201/sys/phys-[eth1/29]        \t\t\t inherit  9150\n",
      "topology/pod-1/node-201/sys/phys-[eth1/30]        \t\t\t inherit  9150\n",
      "topology/pod-1/node-201/sys/phys-[eth1/31]        \t\t\t inherit  9150\n",
      "topology/pod-1/node-201/sys/phys-[eth1/32]        \t\t\t inherit  9150\n",
      "topology/pod-1/node-103/sys/phys-[eth1/97]        \t\t\t inherit  9150\n",
      "topology/pod-1/node-103/sys/phys-[eth1/98]        \t\t\t inherit  9150\n",
      "topology/pod-1/node-103/sys/phys-[eth1/99]        \t\t\t inherit  9150\n",
      "topology/pod-1/node-103/sys/phys-[eth1/100]       \t\t\t inherit  9150\n",
      "topology/pod-1/node-103/sys/phys-[eth1/101]       \t\t\t inherit  9150\n",
      "topology/pod-1/node-103/sys/phys-[eth1/102]       \t\t\t inherit  9150\n",
      "topology/pod-1/node-103/sys/phys-[eth1/103]       \t\t\t inherit  9150\n",
      "topology/pod-1/node-103/sys/phys-[eth1/104]       \t\t\t inherit  9150\n",
      "topology/pod-1/node-103/sys/phys-[eth1/1]         \t\t\t 10G      9000\n",
      "topology/pod-1/node-103/sys/phys-[eth1/2]         \t\t\t 10G      9000\n",
      "topology/pod-1/node-103/sys/phys-[eth1/3]         \t\t\t 10G      9000\n",
      "topology/pod-1/node-103/sys/phys-[eth1/4]         \t\t\t 10G      9000\n",
      "topology/pod-1/node-103/sys/phys-[eth1/5]         \t\t\t 10G      9000\n",
      "topology/pod-1/node-103/sys/phys-[eth1/6]         \t\t\t 10G      9000\n",
      "topology/pod-1/node-103/sys/phys-[eth1/7]         \t\t\t 10G      9000\n",
      "topology/pod-1/node-103/sys/phys-[eth1/8]         \t\t\t 10G      9000\n",
      "topology/pod-1/node-103/sys/phys-[eth1/9]         \t\t\t 10G      9000\n",
      "topology/pod-1/node-103/sys/phys-[eth1/10]        \t\t\t 10G      9000\n",
      "topology/pod-1/node-103/sys/phys-[eth1/11]        \t\t\t 10G      9000\n",
      "topology/pod-1/node-103/sys/phys-[eth1/12]        \t\t\t 10G      9000\n",
      "topology/pod-1/node-103/sys/phys-[eth1/13]        \t\t\t 10G      9000\n",
      "topology/pod-1/node-103/sys/phys-[eth1/14]        \t\t\t 10G      9000\n",
      "topology/pod-1/node-103/sys/phys-[eth1/15]        \t\t\t 10G      9000\n",
      "topology/pod-1/node-103/sys/phys-[eth1/16]        \t\t\t 10G      9000\n",
      "topology/pod-1/node-103/sys/phys-[eth1/17]        \t\t\t 10G      9000\n",
      "topology/pod-1/node-103/sys/phys-[eth1/18]        \t\t\t 10G      9000\n",
      "topology/pod-1/node-103/sys/phys-[eth1/19]        \t\t\t 10G      9000\n",
      "topology/pod-1/node-103/sys/phys-[eth1/20]        \t\t\t 10G      9000\n",
      "topology/pod-1/node-103/sys/phys-[eth1/21]        \t\t\t 10G      9000\n",
      "topology/pod-1/node-103/sys/phys-[eth1/22]        \t\t\t 10G      9000\n",
      "topology/pod-1/node-103/sys/phys-[eth1/23]        \t\t\t 10G      9000\n",
      "topology/pod-1/node-103/sys/phys-[eth1/24]        \t\t\t 10G      9000\n",
      "topology/pod-1/node-103/sys/phys-[eth1/25]        \t\t\t 10G      9000\n",
      "topology/pod-1/node-103/sys/phys-[eth1/26]        \t\t\t 10G      9000\n",
      "topology/pod-1/node-103/sys/phys-[eth1/27]        \t\t\t 10G      9000\n",
      "topology/pod-1/node-103/sys/phys-[eth1/28]        \t\t\t 10G      9000\n",
      "topology/pod-1/node-103/sys/phys-[eth1/29]        \t\t\t 10G      9000\n",
      "topology/pod-1/node-103/sys/phys-[eth1/30]        \t\t\t 10G      9000\n",
      "topology/pod-1/node-103/sys/phys-[eth1/31]        \t\t\t 10G      9000\n",
      "topology/pod-1/node-103/sys/phys-[eth1/32]        \t\t\t 10G      9000\n",
      "topology/pod-1/node-103/sys/phys-[eth1/33]        \t\t\t 10G      9000\n",
      "topology/pod-1/node-103/sys/phys-[eth1/34]        \t\t\t 10G      9000\n",
      "topology/pod-1/node-103/sys/phys-[eth1/35]        \t\t\t 10G      9000\n",
      "topology/pod-1/node-103/sys/phys-[eth1/36]        \t\t\t 10G      9000\n",
      "topology/pod-1/node-103/sys/phys-[eth1/37]        \t\t\t 10G      9000\n",
      "topology/pod-1/node-103/sys/phys-[eth1/38]        \t\t\t 10G      9000\n",
      "topology/pod-1/node-103/sys/phys-[eth1/39]        \t\t\t 10G      9000\n",
      "topology/pod-1/node-103/sys/phys-[eth1/40]        \t\t\t 10G      9000\n",
      "topology/pod-1/node-103/sys/phys-[eth1/41]        \t\t\t 10G      9000\n",
      "topology/pod-1/node-103/sys/phys-[eth1/42]        \t\t\t 10G      9000\n",
      "topology/pod-1/node-103/sys/phys-[eth1/43]        \t\t\t 10G      9000\n",
      "topology/pod-1/node-103/sys/phys-[eth1/44]        \t\t\t 10G      9000\n",
      "topology/pod-1/node-103/sys/phys-[eth1/45]        \t\t\t 10G      9000\n",
      "topology/pod-1/node-103/sys/phys-[eth1/46]        \t\t\t 10G      9000\n",
      "topology/pod-1/node-103/sys/phys-[eth1/47]        \t\t\t 10G      9000\n",
      "topology/pod-1/node-103/sys/phys-[eth1/48]        \t\t\t 10G      9000\n",
      "topology/pod-1/node-103/sys/phys-[eth1/49]        \t\t\t 10G      9000\n",
      "topology/pod-1/node-103/sys/phys-[eth1/50]        \t\t\t 10G      9000\n",
      "topology/pod-1/node-103/sys/phys-[eth1/51]        \t\t\t 10G      9000\n",
      "topology/pod-1/node-103/sys/phys-[eth1/52]        \t\t\t 10G      9000\n",
      "topology/pod-1/node-103/sys/phys-[eth1/53]        \t\t\t 10G      9000\n",
      "topology/pod-1/node-103/sys/phys-[eth1/54]        \t\t\t 10G      9000\n",
      "topology/pod-1/node-103/sys/phys-[eth1/55]        \t\t\t 10G      9000\n",
      "topology/pod-1/node-103/sys/phys-[eth1/56]        \t\t\t 10G      9000\n",
      "topology/pod-1/node-103/sys/phys-[eth1/57]        \t\t\t 10G      9000\n",
      "topology/pod-1/node-103/sys/phys-[eth1/58]        \t\t\t 10G      9000\n",
      "topology/pod-1/node-103/sys/phys-[eth1/59]        \t\t\t 10G      9000\n",
      "topology/pod-1/node-103/sys/phys-[eth1/60]        \t\t\t 10G      9000\n",
      "topology/pod-1/node-103/sys/phys-[eth1/61]        \t\t\t 10G      9000\n",
      "topology/pod-1/node-103/sys/phys-[eth1/62]        \t\t\t 10G      9000\n",
      "topology/pod-1/node-103/sys/phys-[eth1/63]        \t\t\t 10G      9000\n",
      "topology/pod-1/node-103/sys/phys-[eth1/64]        \t\t\t 10G      9000\n",
      "topology/pod-1/node-103/sys/phys-[eth1/65]        \t\t\t 10G      9000\n",
      "topology/pod-1/node-103/sys/phys-[eth1/66]        \t\t\t 10G      9000\n",
      "topology/pod-1/node-103/sys/phys-[eth1/67]        \t\t\t 10G      9000\n",
      "topology/pod-1/node-103/sys/phys-[eth1/68]        \t\t\t 10G      9000\n",
      "topology/pod-1/node-103/sys/phys-[eth1/69]        \t\t\t 10G      9000\n",
      "topology/pod-1/node-103/sys/phys-[eth1/70]        \t\t\t 10G      9000\n",
      "topology/pod-1/node-103/sys/phys-[eth1/71]        \t\t\t 10G      9000\n",
      "topology/pod-1/node-103/sys/phys-[eth1/72]        \t\t\t 10G      9000\n",
      "topology/pod-1/node-103/sys/phys-[eth1/73]        \t\t\t 10G      9000\n",
      "topology/pod-1/node-103/sys/phys-[eth1/74]        \t\t\t 10G      9000\n",
      "topology/pod-1/node-103/sys/phys-[eth1/75]        \t\t\t 10G      9000\n",
      "topology/pod-1/node-103/sys/phys-[eth1/76]        \t\t\t 10G      9000\n",
      "topology/pod-1/node-103/sys/phys-[eth1/77]        \t\t\t 10G      9000\n",
      "topology/pod-1/node-103/sys/phys-[eth1/78]        \t\t\t 10G      9000\n",
      "topology/pod-1/node-103/sys/phys-[eth1/79]        \t\t\t 10G      9000\n",
      "topology/pod-1/node-103/sys/phys-[eth1/80]        \t\t\t 10G      9000\n",
      "topology/pod-1/node-103/sys/phys-[eth1/81]        \t\t\t 10G      9000\n",
      "topology/pod-1/node-103/sys/phys-[eth1/82]        \t\t\t 10G      9000\n",
      "topology/pod-1/node-103/sys/phys-[eth1/83]        \t\t\t 10G      9000\n",
      "topology/pod-1/node-103/sys/phys-[eth1/84]        \t\t\t 10G      9000\n",
      "topology/pod-1/node-103/sys/phys-[eth1/85]        \t\t\t 10G      9000\n",
      "topology/pod-1/node-103/sys/phys-[eth1/86]        \t\t\t 10G      9000\n",
      "topology/pod-1/node-103/sys/phys-[eth1/87]        \t\t\t 10G      9000\n",
      "topology/pod-1/node-103/sys/phys-[eth1/88]        \t\t\t 10G      9000\n",
      "topology/pod-1/node-103/sys/phys-[eth1/89]        \t\t\t 10G      9000\n",
      "topology/pod-1/node-103/sys/phys-[eth1/90]        \t\t\t 10G      9000\n",
      "topology/pod-1/node-103/sys/phys-[eth1/91]        \t\t\t 10G      9000\n",
      "topology/pod-1/node-103/sys/phys-[eth1/92]        \t\t\t 10G      9000\n",
      "topology/pod-1/node-103/sys/phys-[eth1/93]        \t\t\t 10G      9000\n",
      "topology/pod-1/node-103/sys/phys-[eth1/94]        \t\t\t 10G      9000\n",
      "topology/pod-1/node-103/sys/phys-[eth1/95]        \t\t\t 10G      9000\n",
      "topology/pod-1/node-103/sys/phys-[eth1/96]        \t\t\t 10G      9000\n",
      "topology/pod-1/node-104/sys/phys-[eth1/97]        \t\t\t inherit  9150\n",
      "topology/pod-1/node-104/sys/phys-[eth1/98]        \t\t\t inherit  9150\n",
      "topology/pod-1/node-104/sys/phys-[eth1/99]        \t\t\t inherit  9150\n",
      "topology/pod-1/node-104/sys/phys-[eth1/100]       \t\t\t inherit  9150\n",
      "topology/pod-1/node-104/sys/phys-[eth1/101]       \t\t\t inherit  9150\n",
      "topology/pod-1/node-104/sys/phys-[eth1/102]       \t\t\t inherit  9150\n",
      "topology/pod-1/node-104/sys/phys-[eth1/103]       \t\t\t inherit  9150\n",
      "topology/pod-1/node-104/sys/phys-[eth1/104]       \t\t\t inherit  9150\n",
      "topology/pod-1/node-104/sys/phys-[eth1/1]         \t\t\t 10G      9000\n",
      "topology/pod-1/node-104/sys/phys-[eth1/2]         \t\t\t 10G      9000\n",
      "topology/pod-1/node-104/sys/phys-[eth1/3]         \t\t\t 10G      9000\n",
      "topology/pod-1/node-104/sys/phys-[eth1/4]         \t\t\t 10G      9000\n",
      "topology/pod-1/node-104/sys/phys-[eth1/5]         \t\t\t 10G      9000\n",
      "topology/pod-1/node-104/sys/phys-[eth1/6]         \t\t\t 10G      9000\n",
      "topology/pod-1/node-104/sys/phys-[eth1/7]         \t\t\t 10G      9000\n",
      "topology/pod-1/node-104/sys/phys-[eth1/8]         \t\t\t 10G      9000\n",
      "topology/pod-1/node-104/sys/phys-[eth1/9]         \t\t\t 10G      9000\n",
      "topology/pod-1/node-104/sys/phys-[eth1/10]        \t\t\t 10G      9000\n",
      "topology/pod-1/node-104/sys/phys-[eth1/11]        \t\t\t 10G      9000\n",
      "topology/pod-1/node-104/sys/phys-[eth1/12]        \t\t\t 10G      9000\n",
      "topology/pod-1/node-104/sys/phys-[eth1/13]        \t\t\t 10G      9000\n",
      "topology/pod-1/node-104/sys/phys-[eth1/14]        \t\t\t 10G      9000\n",
      "topology/pod-1/node-104/sys/phys-[eth1/15]        \t\t\t 10G      9000\n",
      "topology/pod-1/node-104/sys/phys-[eth1/16]        \t\t\t 10G      9000\n",
      "topology/pod-1/node-104/sys/phys-[eth1/17]        \t\t\t 10G      9000\n",
      "topology/pod-1/node-104/sys/phys-[eth1/18]        \t\t\t 10G      9000\n",
      "topology/pod-1/node-104/sys/phys-[eth1/19]        \t\t\t 10G      9000\n",
      "topology/pod-1/node-104/sys/phys-[eth1/20]        \t\t\t 10G      9000\n",
      "topology/pod-1/node-104/sys/phys-[eth1/21]        \t\t\t 10G      9000\n",
      "topology/pod-1/node-104/sys/phys-[eth1/22]        \t\t\t 10G      9000\n",
      "topology/pod-1/node-104/sys/phys-[eth1/23]        \t\t\t 10G      9000\n",
      "topology/pod-1/node-104/sys/phys-[eth1/24]        \t\t\t 10G      9000\n",
      "topology/pod-1/node-104/sys/phys-[eth1/25]        \t\t\t 10G      9000\n",
      "topology/pod-1/node-104/sys/phys-[eth1/26]        \t\t\t 10G      9000\n",
      "topology/pod-1/node-104/sys/phys-[eth1/27]        \t\t\t 10G      9000\n",
      "topology/pod-1/node-104/sys/phys-[eth1/28]        \t\t\t 10G      9000\n",
      "topology/pod-1/node-104/sys/phys-[eth1/29]        \t\t\t 10G      9000\n",
      "topology/pod-1/node-104/sys/phys-[eth1/30]        \t\t\t 10G      9000\n",
      "topology/pod-1/node-104/sys/phys-[eth1/31]        \t\t\t 10G      9000\n",
      "topology/pod-1/node-104/sys/phys-[eth1/32]        \t\t\t 10G      9000\n",
      "topology/pod-1/node-104/sys/phys-[eth1/33]        \t\t\t 10G      9000\n",
      "topology/pod-1/node-104/sys/phys-[eth1/34]        \t\t\t 10G      9000\n",
      "topology/pod-1/node-104/sys/phys-[eth1/35]        \t\t\t 10G      9000\n",
      "topology/pod-1/node-104/sys/phys-[eth1/36]        \t\t\t 10G      9000\n",
      "topology/pod-1/node-104/sys/phys-[eth1/37]        \t\t\t 10G      9000\n",
      "topology/pod-1/node-104/sys/phys-[eth1/38]        \t\t\t 10G      9000\n",
      "topology/pod-1/node-104/sys/phys-[eth1/39]        \t\t\t 10G      9000\n",
      "topology/pod-1/node-104/sys/phys-[eth1/40]        \t\t\t 10G      9000\n",
      "topology/pod-1/node-104/sys/phys-[eth1/41]        \t\t\t 10G      9000\n",
      "topology/pod-1/node-104/sys/phys-[eth1/42]        \t\t\t 10G      9000\n",
      "topology/pod-1/node-104/sys/phys-[eth1/43]        \t\t\t 10G      9000\n",
      "topology/pod-1/node-104/sys/phys-[eth1/44]        \t\t\t 10G      9000\n",
      "topology/pod-1/node-104/sys/phys-[eth1/45]        \t\t\t 10G      9000\n",
      "topology/pod-1/node-104/sys/phys-[eth1/46]        \t\t\t 10G      9000\n",
      "topology/pod-1/node-104/sys/phys-[eth1/47]        \t\t\t 10G      9000\n",
      "topology/pod-1/node-104/sys/phys-[eth1/48]        \t\t\t 10G      9000\n",
      "topology/pod-1/node-104/sys/phys-[eth1/49]        \t\t\t 10G      9000\n",
      "topology/pod-1/node-104/sys/phys-[eth1/50]        \t\t\t 10G      9000\n",
      "topology/pod-1/node-104/sys/phys-[eth1/51]        \t\t\t 10G      9000\n",
      "topology/pod-1/node-104/sys/phys-[eth1/52]        \t\t\t 10G      9000\n",
      "topology/pod-1/node-104/sys/phys-[eth1/53]        \t\t\t 10G      9000\n",
      "topology/pod-1/node-104/sys/phys-[eth1/54]        \t\t\t 10G      9000\n",
      "topology/pod-1/node-104/sys/phys-[eth1/55]        \t\t\t 10G      9000\n",
      "topology/pod-1/node-104/sys/phys-[eth1/56]        \t\t\t 10G      9000\n",
      "topology/pod-1/node-104/sys/phys-[eth1/57]        \t\t\t 10G      9000\n",
      "topology/pod-1/node-104/sys/phys-[eth1/58]        \t\t\t 10G      9000\n",
      "topology/pod-1/node-104/sys/phys-[eth1/59]        \t\t\t 10G      9000\n",
      "topology/pod-1/node-104/sys/phys-[eth1/60]        \t\t\t 10G      9000\n",
      "topology/pod-1/node-104/sys/phys-[eth1/61]        \t\t\t 10G      9000\n",
      "topology/pod-1/node-104/sys/phys-[eth1/62]        \t\t\t 10G      9000\n",
      "topology/pod-1/node-104/sys/phys-[eth1/63]        \t\t\t 10G      9000\n",
      "topology/pod-1/node-104/sys/phys-[eth1/64]        \t\t\t 10G      9000\n",
      "topology/pod-1/node-104/sys/phys-[eth1/65]        \t\t\t 10G      9000\n",
      "topology/pod-1/node-104/sys/phys-[eth1/66]        \t\t\t 10G      9000\n",
      "topology/pod-1/node-104/sys/phys-[eth1/67]        \t\t\t 10G      9000\n",
      "topology/pod-1/node-104/sys/phys-[eth1/68]        \t\t\t 10G      9000\n",
      "topology/pod-1/node-104/sys/phys-[eth1/69]        \t\t\t 10G      9000\n",
      "topology/pod-1/node-104/sys/phys-[eth1/70]        \t\t\t 10G      9000\n",
      "topology/pod-1/node-104/sys/phys-[eth1/71]        \t\t\t 10G      9000\n",
      "topology/pod-1/node-104/sys/phys-[eth1/72]        \t\t\t 10G      9000\n",
      "topology/pod-1/node-104/sys/phys-[eth1/73]        \t\t\t 10G      9000\n",
      "topology/pod-1/node-104/sys/phys-[eth1/74]        \t\t\t 10G      9000\n",
      "topology/pod-1/node-104/sys/phys-[eth1/75]        \t\t\t 10G      9000\n",
      "topology/pod-1/node-104/sys/phys-[eth1/76]        \t\t\t 10G      9000\n",
      "topology/pod-1/node-104/sys/phys-[eth1/77]        \t\t\t 10G      9000\n",
      "topology/pod-1/node-104/sys/phys-[eth1/78]        \t\t\t 10G      9000\n",
      "topology/pod-1/node-104/sys/phys-[eth1/79]        \t\t\t 10G      9000\n",
      "topology/pod-1/node-104/sys/phys-[eth1/80]        \t\t\t 10G      9000\n",
      "topology/pod-1/node-104/sys/phys-[eth1/81]        \t\t\t 10G      9000\n",
      "topology/pod-1/node-104/sys/phys-[eth1/82]        \t\t\t 10G      9000\n",
      "topology/pod-1/node-104/sys/phys-[eth1/83]        \t\t\t 10G      9000\n",
      "topology/pod-1/node-104/sys/phys-[eth1/84]        \t\t\t 10G      9000\n",
      "topology/pod-1/node-104/sys/phys-[eth1/85]        \t\t\t 10G      9000\n",
      "topology/pod-1/node-104/sys/phys-[eth1/86]        \t\t\t 10G      9000\n",
      "topology/pod-1/node-104/sys/phys-[eth1/87]        \t\t\t 10G      9000\n",
      "topology/pod-1/node-104/sys/phys-[eth1/88]        \t\t\t 10G      9000\n",
      "topology/pod-1/node-104/sys/phys-[eth1/89]        \t\t\t 10G      9000\n",
      "topology/pod-1/node-104/sys/phys-[eth1/90]        \t\t\t 10G      9000\n",
      "topology/pod-1/node-104/sys/phys-[eth1/91]        \t\t\t 10G      9000\n",
      "topology/pod-1/node-104/sys/phys-[eth1/92]        \t\t\t 10G      9000\n",
      "topology/pod-1/node-104/sys/phys-[eth1/93]        \t\t\t 10G      9000\n",
      "topology/pod-1/node-104/sys/phys-[eth1/94]        \t\t\t 10G      9000\n",
      "topology/pod-1/node-104/sys/phys-[eth1/95]        \t\t\t 10G      9000\n",
      "topology/pod-1/node-104/sys/phys-[eth1/96]        \t\t\t 10G      9000\n",
      "topology/pod-1/node-200/sys/phys-[eth1/33]        \t\t\t inherit  9150\n",
      "topology/pod-1/node-200/sys/phys-[eth1/34]        \t\t\t inherit  9150\n",
      "topology/pod-1/node-200/sys/phys-[eth1/35]        \t\t\t inherit  9150\n",
      "topology/pod-1/node-200/sys/phys-[eth1/36]        \t\t\t inherit  9150\n",
      "topology/pod-1/node-200/sys/phys-[eth1/1]         \t\t\t inherit  9150\n",
      "topology/pod-1/node-200/sys/phys-[eth1/2]         \t\t\t inherit  9150\n",
      "topology/pod-1/node-200/sys/phys-[eth1/3]         \t\t\t inherit  9150\n",
      "topology/pod-1/node-200/sys/phys-[eth1/4]         \t\t\t inherit  9150\n",
      "topology/pod-1/node-200/sys/phys-[eth1/5]         \t\t\t inherit  9150\n",
      "topology/pod-1/node-200/sys/phys-[eth1/6]         \t\t\t inherit  9150\n",
      "topology/pod-1/node-200/sys/phys-[eth1/7]         \t\t\t inherit  9150\n",
      "topology/pod-1/node-200/sys/phys-[eth1/8]         \t\t\t inherit  9150\n",
      "topology/pod-1/node-200/sys/phys-[eth1/9]         \t\t\t inherit  9150\n",
      "topology/pod-1/node-200/sys/phys-[eth1/10]        \t\t\t inherit  9150\n",
      "topology/pod-1/node-200/sys/phys-[eth1/11]        \t\t\t inherit  9150\n",
      "topology/pod-1/node-200/sys/phys-[eth1/12]        \t\t\t inherit  9150\n",
      "topology/pod-1/node-200/sys/phys-[eth1/13]        \t\t\t inherit  9150\n",
      "topology/pod-1/node-200/sys/phys-[eth1/14]        \t\t\t inherit  9150\n",
      "topology/pod-1/node-200/sys/phys-[eth1/15]        \t\t\t inherit  9150\n",
      "topology/pod-1/node-200/sys/phys-[eth1/16]        \t\t\t inherit  9150\n",
      "topology/pod-1/node-200/sys/phys-[eth1/17]        \t\t\t inherit  9150\n",
      "topology/pod-1/node-200/sys/phys-[eth1/18]        \t\t\t inherit  9150\n",
      "topology/pod-1/node-200/sys/phys-[eth1/19]        \t\t\t inherit  9150\n",
      "topology/pod-1/node-200/sys/phys-[eth1/20]        \t\t\t inherit  9150\n",
      "topology/pod-1/node-200/sys/phys-[eth1/21]        \t\t\t inherit  9150\n",
      "topology/pod-1/node-200/sys/phys-[eth1/22]        \t\t\t inherit  9150\n",
      "topology/pod-1/node-200/sys/phys-[eth1/23]        \t\t\t inherit  9150\n",
      "topology/pod-1/node-200/sys/phys-[eth1/24]        \t\t\t inherit  9150\n",
      "topology/pod-1/node-200/sys/phys-[eth1/25]        \t\t\t inherit  9150\n",
      "topology/pod-1/node-200/sys/phys-[eth1/26]        \t\t\t inherit  9150\n",
      "topology/pod-1/node-200/sys/phys-[eth1/27]        \t\t\t inherit  9150\n",
      "topology/pod-1/node-200/sys/phys-[eth1/28]        \t\t\t inherit  9150\n",
      "topology/pod-1/node-200/sys/phys-[eth1/29]        \t\t\t inherit  9150\n",
      "topology/pod-1/node-200/sys/phys-[eth1/30]        \t\t\t inherit  9150\n",
      "topology/pod-1/node-200/sys/phys-[eth1/31]        \t\t\t inherit  9150\n",
      "topology/pod-1/node-200/sys/phys-[eth1/32]        \t\t\t inherit  9150\n",
      "topology/pod-1/node-102/sys/phys-[eth1/33]        \t\t\t 10G      9000\n",
      "topology/pod-1/node-102/sys/phys-[eth1/34]        \t\t\t 10G      9000\n",
      "topology/pod-1/node-102/sys/phys-[eth1/35]        \t\t\t 10G      9000\n",
      "topology/pod-1/node-102/sys/phys-[eth1/36]        \t\t\t 10G      9000\n",
      "topology/pod-1/node-102/sys/phys-[eth1/37]        \t\t\t 10G      9000\n",
      "topology/pod-1/node-102/sys/phys-[eth1/38]        \t\t\t 10G      9000\n",
      "topology/pod-1/node-102/sys/phys-[eth1/39]        \t\t\t 10G      9000\n",
      "topology/pod-1/node-102/sys/phys-[eth1/40]        \t\t\t 10G      9000\n",
      "topology/pod-1/node-102/sys/phys-[eth1/41]        \t\t\t inherit  9000\n",
      "topology/pod-1/node-102/sys/phys-[eth1/42]        \t\t\t inherit  9000\n",
      "topology/pod-1/node-102/sys/phys-[eth1/43]        \t\t\t inherit  9000\n",
      "topology/pod-1/node-102/sys/phys-[eth1/44]        \t\t\t 10G      9000\n",
      "topology/pod-1/node-102/sys/phys-[eth1/45]        \t\t\t 1G       9000\n",
      "topology/pod-1/node-102/sys/phys-[eth1/46]        \t\t\t 10G      9000\n",
      "topology/pod-1/node-102/sys/phys-[eth1/47]        \t\t\t 10G      9000\n",
      "topology/pod-1/node-102/sys/phys-[eth1/48]        \t\t\t 10G      9000\n",
      "topology/pod-1/node-102/sys/phys-[eth1/49]        \t\t\t inherit  9150\n",
      "topology/pod-1/node-102/sys/phys-[eth1/50]        \t\t\t inherit  9150\n",
      "topology/pod-1/node-102/sys/phys-[eth1/51]        \t\t\t inherit  9150\n",
      "topology/pod-1/node-102/sys/phys-[eth1/52]        \t\t\t inherit  9150\n",
      "topology/pod-1/node-102/sys/phys-[eth1/53]        \t\t\t inherit  9150\n",
      "topology/pod-1/node-102/sys/phys-[eth1/54]        \t\t\t inherit  9150\n",
      "topology/pod-1/node-102/sys/phys-[eth1/55]        \t\t\t inherit  9150\n",
      "topology/pod-1/node-102/sys/phys-[eth1/56]        \t\t\t inherit  9150\n",
      "topology/pod-1/node-102/sys/phys-[eth1/57]        \t\t\t inherit  9150\n",
      "topology/pod-1/node-102/sys/phys-[eth1/58]        \t\t\t inherit  9150\n",
      "topology/pod-1/node-102/sys/phys-[eth1/59]        \t\t\t inherit  9150\n",
      "topology/pod-1/node-102/sys/phys-[eth1/60]        \t\t\t inherit  9150\n",
      "topology/pod-1/node-102/sys/phys-[eth1/1]         \t\t\t 10G      9000\n",
      "topology/pod-1/node-102/sys/phys-[eth1/2]         \t\t\t 10G      9000\n",
      "topology/pod-1/node-102/sys/phys-[eth1/3]         \t\t\t 10G      9000\n",
      "topology/pod-1/node-102/sys/phys-[eth1/4]         \t\t\t 10G      9000\n",
      "topology/pod-1/node-102/sys/phys-[eth1/5]         \t\t\t 10G      9000\n",
      "topology/pod-1/node-102/sys/phys-[eth1/6]         \t\t\t 10G      9000\n",
      "topology/pod-1/node-102/sys/phys-[eth1/7]         \t\t\t 10G      9000\n",
      "topology/pod-1/node-102/sys/phys-[eth1/8]         \t\t\t 10G      9000\n",
      "topology/pod-1/node-102/sys/phys-[eth1/9]         \t\t\t 10G      9000\n",
      "topology/pod-1/node-102/sys/phys-[eth1/10]        \t\t\t 10G      9000\n",
      "topology/pod-1/node-102/sys/phys-[eth1/11]        \t\t\t 10G      9000\n",
      "topology/pod-1/node-102/sys/phys-[eth1/12]        \t\t\t 10G      9000\n",
      "topology/pod-1/node-102/sys/phys-[eth1/13]        \t\t\t 10G      9000\n",
      "topology/pod-1/node-102/sys/phys-[eth1/14]        \t\t\t 10G      9000\n",
      "topology/pod-1/node-102/sys/phys-[eth1/15]        \t\t\t 1G       9000\n",
      "topology/pod-1/node-102/sys/phys-[eth1/16]        \t\t\t 10G      9000\n",
      "topology/pod-1/node-102/sys/phys-[eth1/17]        \t\t\t 10G      9000\n",
      "topology/pod-1/node-102/sys/phys-[eth1/18]        \t\t\t 10G      9000\n",
      "topology/pod-1/node-102/sys/phys-[eth1/19]        \t\t\t 10G      9000\n",
      "topology/pod-1/node-102/sys/phys-[eth1/20]        \t\t\t 10G      9000\n",
      "topology/pod-1/node-102/sys/phys-[eth1/21]        \t\t\t 10G      9000\n",
      "topology/pod-1/node-102/sys/phys-[eth1/22]        \t\t\t 10G      9000\n",
      "topology/pod-1/node-102/sys/phys-[eth1/23]        \t\t\t 10G      9000\n",
      "topology/pod-1/node-102/sys/phys-[eth1/24]        \t\t\t 10G      9000\n",
      "topology/pod-1/node-102/sys/phys-[eth1/25]        \t\t\t 10G      9000\n",
      "topology/pod-1/node-102/sys/phys-[eth1/26]        \t\t\t 10G      9000\n",
      "topology/pod-1/node-102/sys/phys-[eth1/27]        \t\t\t 10G      9000\n",
      "topology/pod-1/node-102/sys/phys-[eth1/28]        \t\t\t 10G      9000\n",
      "topology/pod-1/node-102/sys/phys-[eth1/29]        \t\t\t 10G      9000\n",
      "topology/pod-1/node-102/sys/phys-[eth1/30]        \t\t\t 10G      9000\n",
      "topology/pod-1/node-102/sys/phys-[eth1/31]        \t\t\t 10G      9000\n",
      "topology/pod-1/node-102/sys/phys-[eth1/32]        \t\t\t 10G      9000\n",
      "topology/pod-1/node-101/sys/phys-[eth1/33]        \t\t\t 10G      9000\n",
      "topology/pod-1/node-101/sys/phys-[eth1/34]        \t\t\t 10G      9000\n",
      "topology/pod-1/node-101/sys/phys-[eth1/35]        \t\t\t 10G      9000\n",
      "topology/pod-1/node-101/sys/phys-[eth1/36]        \t\t\t 10G      9000\n",
      "topology/pod-1/node-101/sys/phys-[eth1/37]        \t\t\t 10G      9000\n",
      "topology/pod-1/node-101/sys/phys-[eth1/38]        \t\t\t 10G      9000\n",
      "topology/pod-1/node-101/sys/phys-[eth1/39]        \t\t\t 10G      9000\n",
      "topology/pod-1/node-101/sys/phys-[eth1/40]        \t\t\t 10G      9000\n",
      "topology/pod-1/node-101/sys/phys-[eth1/41]        \t\t\t inherit  9000\n",
      "topology/pod-1/node-101/sys/phys-[eth1/42]        \t\t\t inherit  9000\n",
      "topology/pod-1/node-101/sys/phys-[eth1/43]        \t\t\t inherit  9000\n",
      "topology/pod-1/node-101/sys/phys-[eth1/44]        \t\t\t 10G      9000\n",
      "topology/pod-1/node-101/sys/phys-[eth1/45]        \t\t\t 1G       9000\n",
      "topology/pod-1/node-101/sys/phys-[eth1/46]        \t\t\t 10G      9000\n",
      "topology/pod-1/node-101/sys/phys-[eth1/47]        \t\t\t 10G      9000\n",
      "topology/pod-1/node-101/sys/phys-[eth1/48]        \t\t\t 10G      9000\n",
      "topology/pod-1/node-101/sys/phys-[eth1/49]        \t\t\t inherit  9150\n",
      "topology/pod-1/node-101/sys/phys-[eth1/50]        \t\t\t inherit  9150\n",
      "topology/pod-1/node-101/sys/phys-[eth1/51]        \t\t\t inherit  9150\n",
      "topology/pod-1/node-101/sys/phys-[eth1/52]        \t\t\t inherit  9150\n",
      "topology/pod-1/node-101/sys/phys-[eth1/53]        \t\t\t inherit  9150\n",
      "topology/pod-1/node-101/sys/phys-[eth1/54]        \t\t\t inherit  9150\n",
      "topology/pod-1/node-101/sys/phys-[eth1/55]        \t\t\t inherit  9150\n",
      "topology/pod-1/node-101/sys/phys-[eth1/56]        \t\t\t inherit  9150\n",
      "topology/pod-1/node-101/sys/phys-[eth1/57]        \t\t\t inherit  9150\n",
      "topology/pod-1/node-101/sys/phys-[eth1/58]        \t\t\t inherit  9150\n",
      "topology/pod-1/node-101/sys/phys-[eth1/59]        \t\t\t inherit  9150\n",
      "topology/pod-1/node-101/sys/phys-[eth1/60]        \t\t\t inherit  9150\n",
      "topology/pod-1/node-101/sys/phys-[eth1/1]         \t\t\t 10G      9000\n",
      "topology/pod-1/node-101/sys/phys-[eth1/2]         \t\t\t 10G      9000\n",
      "topology/pod-1/node-101/sys/phys-[eth1/3]         \t\t\t 10G      9000\n",
      "topology/pod-1/node-101/sys/phys-[eth1/4]         \t\t\t 10G      9000\n",
      "topology/pod-1/node-101/sys/phys-[eth1/5]         \t\t\t 10G      9000\n",
      "topology/pod-1/node-101/sys/phys-[eth1/6]         \t\t\t 10G      9000\n",
      "topology/pod-1/node-101/sys/phys-[eth1/7]         \t\t\t 10G      9000\n",
      "topology/pod-1/node-101/sys/phys-[eth1/8]         \t\t\t 10G      9000\n",
      "topology/pod-1/node-101/sys/phys-[eth1/9]         \t\t\t 10G      9000\n",
      "topology/pod-1/node-101/sys/phys-[eth1/10]        \t\t\t 1G       9000\n",
      "topology/pod-1/node-101/sys/phys-[eth1/11]        \t\t\t 10G      9000\n",
      "topology/pod-1/node-101/sys/phys-[eth1/12]        \t\t\t 10G      9000\n",
      "topology/pod-1/node-101/sys/phys-[eth1/13]        \t\t\t 10G      9000\n",
      "topology/pod-1/node-101/sys/phys-[eth1/14]        \t\t\t 10G      9000\n",
      "topology/pod-1/node-101/sys/phys-[eth1/15]        \t\t\t 1G       9000\n",
      "topology/pod-1/node-101/sys/phys-[eth1/16]        \t\t\t 10G      9000\n",
      "topology/pod-1/node-101/sys/phys-[eth1/17]        \t\t\t 10G      9000\n",
      "topology/pod-1/node-101/sys/phys-[eth1/18]        \t\t\t 10G      9000\n",
      "topology/pod-1/node-101/sys/phys-[eth1/19]        \t\t\t 10G      9000\n",
      "topology/pod-1/node-101/sys/phys-[eth1/20]        \t\t\t 10G      9000\n",
      "topology/pod-1/node-101/sys/phys-[eth1/21]        \t\t\t 10G      9000\n",
      "topology/pod-1/node-101/sys/phys-[eth1/22]        \t\t\t 10G      9000\n",
      "topology/pod-1/node-101/sys/phys-[eth1/23]        \t\t\t 10G      9000\n",
      "topology/pod-1/node-101/sys/phys-[eth1/24]        \t\t\t 10G      9000\n",
      "topology/pod-1/node-101/sys/phys-[eth1/25]        \t\t\t 10G      9000\n",
      "topology/pod-1/node-101/sys/phys-[eth1/26]        \t\t\t 10G      9000\n",
      "topology/pod-1/node-101/sys/phys-[eth1/27]        \t\t\t 10G      9000\n",
      "topology/pod-1/node-101/sys/phys-[eth1/28]        \t\t\t 10G      9000\n",
      "topology/pod-1/node-101/sys/phys-[eth1/29]        \t\t\t 10G      9000\n",
      "topology/pod-1/node-101/sys/phys-[eth1/30]        \t\t\t 10G      9000\n",
      "topology/pod-1/node-101/sys/phys-[eth1/31]        \t\t\t 10G      9000\n",
      "topology/pod-1/node-101/sys/phys-[eth1/32]        \t\t\t 10G      9000\n"
     ]
    }
   ],
   "source": [
    "import json\n",
    "\n",
    "jsondata = open('interface-data.json').read()\n",
    "## Complete your solution here\n",
    "data = json.loads(jsondata)\n",
    "\n",
    "print(f\"\"\"Interface Status\\n\n",
    "================================================================================\\n\n",
    "DN                                                 Description    Speed    MTU\\n\n",
    "-------------------------------------------------- ------------  ------  ------\\n\"\"\")\n",
    "\n",
    "for imdata in data['imdata']:\n",
    "    name = str(list(imdata.keys())[0])\n",
    "    \n",
    "    dn = imdata[name]['attributes']['dn']\n",
    "    desc = imdata[name]['attributes']['descr']\n",
    "    speed = imdata[name]['attributes']['speed']\n",
    "    mtu = imdata[name]['attributes']['mtu']\n",
    "\n",
    "    print(f'{dn:42}\\t\\t{desc:5}\\t {speed:8} {mtu}')"
   ]
  },
  {
   "cell_type": "markdown",
   "metadata": {},
   "source": [
    "### Task 2\n",
    "\n",
    "Using the same JSON input as `Task 6`, Find all interfaces with `dn` attributes starting with `topology/pod-1/node-103`. Store the results in another file named `interface-103.json`, **with the same format as the original input JSON file** in JSON format, with one pretty setting: `indent = 4`."
   ]
  },
  {
   "cell_type": "code",
   "execution_count": 14,
   "metadata": {},
   "outputs": [],
   "source": [
    "import json\n",
    "\n",
    "jsondata = open('interface-data.json').read()\n",
    "## Complete your solution here\n",
    "jasondata = json.loads(jsondata)\n",
    "attr = \"topology/pod-1/node-103\"\n",
    "newList = []\n",
    "amount = 0 \n",
    "\n",
    "for i in jasondata['imdata']:\n",
    "    if(attr in i['l1PhysIf'].get('attributes').get('dn')):\n",
    "        newList.append(i)\n",
    "        amount +=1\n",
    "\n",
    "jasondata['imdata'].clear()\n",
    "jasondata['imdata'] = newList\n",
    "jasondata['totalCount'] = str(amount)\n",
    "\n",
    "with open('interface-103.json', 'w') as f:\n",
    "    json.dump(jasondata, f, indent= 4)"
   ]
  },
  {
   "cell_type": "markdown",
   "metadata": {},
   "source": [
    "### Task 3\n",
    "You are given a JSON file `task3_input.json`. Now perform the following operations on the JSON file:\n",
    "\n",
    "1. Read the JSON file `task3_input.json` and convert it to a dictory.\n",
    "1. Pretty print the JSON file.\n",
    "1. Change the value of filed A to B.\n",
    "1. Save the modified values as a new JSON file `task3_output1.json`.\n",
    "1. Save the modified values as a new YAML file `task3_output2.yaml`."
   ]
  },
  {
   "cell_type": "code",
   "execution_count": 13,
   "metadata": {
    "tags": []
   },
   "outputs": [
    {
     "name": "stdout",
     "output_type": "stream",
     "text": [
      "{\n",
      "    \"AWSTemplateFormatVersion\": \"2010-09-09\",\n",
      "    \"Description\": \"AWS CloudFormation Sample Template EC2InstanceWithSecurityGroupSample: Create an Amazon EC2 instance running the Amazon Linux AMI. The AMI is chosen based on the region in which the stack is run. This example creates an EC2 security group for the instance to give you SSH access. **WARNING** This template creates an Amazon EC2 instance. You will be billed for the AWS resources used if you create a stack from this template.\",\n",
      "    \"Parameters\": {\n",
      "        \"KeyName\": {\n",
      "            \"Description\": \"Name of an existing EC2 KeyPair to enable SSH access to the instance\",\n",
      "            \"Type\": \"AWS::EC2::KeyPair::KeyName\",\n",
      "            \"Default\": \"admin-Default\",\n",
      "            \"ConstraintDescription\": \"must be the name of an existing EC2 KeyPair.\"\n",
      "        },\n",
      "        \"InstanceType\": {\n",
      "            \"Description\": \"WebServer EC2 instance type\",\n",
      "            \"Type\": \"String\",\n",
      "            \"Default\": \"t2.micro\",\n",
      "            \"AllowedValues\": [\n",
      "                \"t1.micro\",\n",
      "                \"t2.nano\",\n",
      "                \"t2.micro\",\n",
      "                \"t2.small\",\n",
      "                \"t2.medium\",\n",
      "                \"t2.large\",\n",
      "                \"m1.small\",\n",
      "                \"m1.medium\",\n",
      "                \"m1.large\",\n",
      "                \"m1.xlarge\",\n",
      "                \"m2.xlarge\",\n",
      "                \"m2.2xlarge\",\n",
      "                \"m2.4xlarge\",\n",
      "                \"m3.medium\",\n",
      "                \"m3.large\",\n",
      "                \"m3.xlarge\",\n",
      "                \"m3.2xlarge\",\n",
      "                \"m4.large\",\n",
      "                \"m4.xlarge\",\n",
      "                \"m4.2xlarge\",\n",
      "                \"m4.4xlarge\",\n",
      "                \"m4.10xlarge\",\n",
      "                \"c1.medium\",\n",
      "                \"c1.xlarge\",\n",
      "                \"c3.large\",\n",
      "                \"c3.xlarge\",\n",
      "                \"c3.2xlarge\",\n",
      "                \"c3.4xlarge\",\n",
      "                \"c3.8xlarge\",\n",
      "                \"c4.large\",\n",
      "                \"c4.xlarge\",\n",
      "                \"c4.2xlarge\",\n",
      "                \"c4.4xlarge\",\n",
      "                \"c4.8xlarge\",\n",
      "                \"g2.2xlarge\",\n",
      "                \"g2.8xlarge\",\n",
      "                \"r3.large\",\n",
      "                \"r3.xlarge\",\n",
      "                \"r3.2xlarge\",\n",
      "                \"r3.4xlarge\",\n",
      "                \"r3.8xlarge\",\n",
      "                \"i2.xlarge\",\n",
      "                \"i2.2xlarge\",\n",
      "                \"i2.4xlarge\",\n",
      "                \"i2.8xlarge\",\n",
      "                \"d2.xlarge\",\n",
      "                \"d2.2xlarge\",\n",
      "                \"d2.4xlarge\",\n",
      "                \"d2.8xlarge\",\n",
      "                \"hi1.4xlarge\",\n",
      "                \"hs1.8xlarge\",\n",
      "                \"cr1.8xlarge\",\n",
      "                \"cc2.8xlarge\",\n",
      "                \"cg1.4xlarge\"\n",
      "            ],\n",
      "            \"ConstraintDescription\": \"must be a valid EC2 instance type.\"\n",
      "        },\n",
      "        \"SSHLocation\": {\n",
      "            \"Description\": \"The IP address range that can be used to SSH to the EC2 instances\",\n",
      "            \"Type\": \"String\",\n",
      "            \"MinLength\": \"9\",\n",
      "            \"MaxLength\": \"18\",\n",
      "            \"Default\": \"0.0.0.0/0\",\n",
      "            \"AllowedPattern\": \"(\\\\d{1,3})\\\\.(\\\\d{1,3})\\\\.(\\\\d{1,3})\\\\.(\\\\d{1,3})/(\\\\d{1,2})\",\n",
      "            \"ConstraintDescription\": \"must be a valid IP CIDR range of the form x.x.x.x/x.\"\n",
      "        },\n",
      "        \"Network\": {\n",
      "            \"Description\": \"The Network to the EC2 instances\",\n",
      "            \"Type\": \"String\"\n",
      "        },\n",
      "        \"AvailabilityZone\": {\n",
      "            \"Description\": \"The AZ of the EC2 instance\",\n",
      "            \"Type\": \"String\"\n",
      "        },\n",
      "        \"SubnetPool\": {\n",
      "            \"Description\": \"The IP address range that can be used to SSH to the EC2 instances\",\n",
      "            \"Type\": \"String\"\n",
      "        }\n",
      "    },\n",
      "    \"Metadata\": {\n",
      "        \"SNC::Parameter::Metadata\": {\n",
      "            \"SubnetPool\": {\n",
      "                \"datasource\": \"ServiceNow::Pools::SubnetPool.getObjectsByNetwork\",\n",
      "                \"datasourceFilter\": {\n",
      "                    \"Network\": \"Network\"\n",
      "                }\n",
      "            },\n",
      "            \"Network\": {\n",
      "                \"datasource\": \"ServiceNow::Pools::NetworkPool.getObjectsByLDC\"\n",
      "            },\n",
      "            \"KeyName\": {\n",
      "                \"datasource\": \"ServiceNow::Pools::CloudKeyPairPool.getObjectsByLDC\"\n",
      "            }\n",
      "        }\n",
      "    },\n",
      "    \"Mappings\": {\n",
      "        \"AWSInstanceType2Arch\": {\n",
      "            \"t1.micro\": {\n",
      "                \"Arch\": \"PV64\"\n",
      "            },\n",
      "            \"t2.nano\": {\n",
      "                \"Arch\": \"HVM64\"\n",
      "            },\n",
      "            \"t2.micro\": {\n",
      "                \"Arch\": \"HVM64\"\n",
      "            },\n",
      "            \"t2.small\": {\n",
      "                \"Arch\": \"HVM64\"\n",
      "            },\n",
      "            \"t2.medium\": {\n",
      "                \"Arch\": \"HVM64\"\n",
      "            },\n",
      "            \"t2.large\": {\n",
      "                \"Arch\": \"HVM64\"\n",
      "            },\n",
      "            \"m1.small\": {\n",
      "                \"Arch\": \"PV64\"\n",
      "            },\n",
      "            \"m1.medium\": {\n",
      "                \"Arch\": \"PV64\"\n",
      "            },\n",
      "            \"m1.large\": {\n",
      "                \"Arch\": \"PV64\"\n",
      "            },\n",
      "            \"m1.xlarge\": {\n",
      "                \"Arch\": \"PV64\"\n",
      "            },\n",
      "            \"m2.xlarge\": {\n",
      "                \"Arch\": \"PV64\"\n",
      "            },\n",
      "            \"m2.2xlarge\": {\n",
      "                \"Arch\": \"PV64\"\n",
      "            },\n",
      "            \"m2.4xlarge\": {\n",
      "                \"Arch\": \"PV64\"\n",
      "            },\n",
      "            \"m3.medium\": {\n",
      "                \"Arch\": \"HVM64\"\n",
      "            },\n",
      "            \"m3.large\": {\n",
      "                \"Arch\": \"HVM64\"\n",
      "            },\n",
      "            \"m3.xlarge\": {\n",
      "                \"Arch\": \"HVM64\"\n",
      "            },\n",
      "            \"m3.2xlarge\": {\n",
      "                \"Arch\": \"HVM64\"\n",
      "            },\n",
      "            \"m4.large\": {\n",
      "                \"Arch\": \"HVM64\"\n",
      "            },\n",
      "            \"m4.xlarge\": {\n",
      "                \"Arch\": \"HVM64\"\n",
      "            },\n",
      "            \"m4.2xlarge\": {\n",
      "                \"Arch\": \"HVM64\"\n",
      "            },\n",
      "            \"m4.4xlarge\": {\n",
      "                \"Arch\": \"HVM64\"\n",
      "            },\n",
      "            \"m4.10xlarge\": {\n",
      "                \"Arch\": \"HVM64\"\n",
      "            },\n",
      "            \"c1.medium\": {\n",
      "                \"Arch\": \"PV64\"\n",
      "            },\n",
      "            \"c1.xlarge\": {\n",
      "                \"Arch\": \"PV64\"\n",
      "            },\n",
      "            \"c3.large\": {\n",
      "                \"Arch\": \"HVM64\"\n",
      "            },\n",
      "            \"c3.xlarge\": {\n",
      "                \"Arch\": \"HVM64\"\n",
      "            },\n",
      "            \"c3.2xlarge\": {\n",
      "                \"Arch\": \"HVM64\"\n",
      "            },\n",
      "            \"c3.4xlarge\": {\n",
      "                \"Arch\": \"HVM64\"\n",
      "            },\n",
      "            \"c3.8xlarge\": {\n",
      "                \"Arch\": \"HVM64\"\n",
      "            },\n",
      "            \"c4.large\": {\n",
      "                \"Arch\": \"HVM64\"\n",
      "            },\n",
      "            \"c4.xlarge\": {\n",
      "                \"Arch\": \"HVM64\"\n",
      "            },\n",
      "            \"c4.2xlarge\": {\n",
      "                \"Arch\": \"HVM64\"\n",
      "            },\n",
      "            \"c4.4xlarge\": {\n",
      "                \"Arch\": \"HVM64\"\n",
      "            },\n",
      "            \"c4.8xlarge\": {\n",
      "                \"Arch\": \"HVM64\"\n",
      "            },\n",
      "            \"g2.2xlarge\": {\n",
      "                \"Arch\": \"HVMG2\"\n",
      "            },\n",
      "            \"g2.8xlarge\": {\n",
      "                \"Arch\": \"HVMG2\"\n",
      "            },\n",
      "            \"r3.large\": {\n",
      "                \"Arch\": \"HVM64\"\n",
      "            },\n",
      "            \"r3.xlarge\": {\n",
      "                \"Arch\": \"HVM64\"\n",
      "            },\n",
      "            \"r3.2xlarge\": {\n",
      "                \"Arch\": \"HVM64\"\n",
      "            },\n",
      "            \"r3.4xlarge\": {\n",
      "                \"Arch\": \"HVM64\"\n",
      "            },\n",
      "            \"r3.8xlarge\": {\n",
      "                \"Arch\": \"HVM64\"\n",
      "            },\n",
      "            \"i2.xlarge\": {\n",
      "                \"Arch\": \"HVM64\"\n",
      "            },\n",
      "            \"i2.2xlarge\": {\n",
      "                \"Arch\": \"HVM64\"\n",
      "            },\n",
      "            \"i2.4xlarge\": {\n",
      "                \"Arch\": \"HVM64\"\n",
      "            },\n",
      "            \"i2.8xlarge\": {\n",
      "                \"Arch\": \"HVM64\"\n",
      "            },\n",
      "            \"d2.xlarge\": {\n",
      "                \"Arch\": \"HVM64\"\n",
      "            },\n",
      "            \"d2.2xlarge\": {\n",
      "                \"Arch\": \"HVM64\"\n",
      "            },\n",
      "            \"d2.4xlarge\": {\n",
      "                \"Arch\": \"HVM64\"\n",
      "            },\n",
      "            \"d2.8xlarge\": {\n",
      "                \"Arch\": \"HVM64\"\n",
      "            },\n",
      "            \"hi1.4xlarge\": {\n",
      "                \"Arch\": \"HVM64\"\n",
      "            },\n",
      "            \"hs1.8xlarge\": {\n",
      "                \"Arch\": \"HVM64\"\n",
      "            },\n",
      "            \"cr1.8xlarge\": {\n",
      "                \"Arch\": \"HVM64\"\n",
      "            },\n",
      "            \"cc2.8xlarge\": {\n",
      "                \"Arch\": \"HVM64\"\n",
      "            }\n",
      "        },\n",
      "        \"AWSRegionArch2AMI\": {\n",
      "            \"us-east-1\": {\n",
      "                \"PV64\": \"ami-2a69aa47\",\n",
      "                \"HVM64\": \"ami-6869aa05\",\n",
      "                \"HVMG2\": \"ami-a41a3fb3\"\n",
      "            },\n",
      "            \"us-west-2\": {\n",
      "                \"PV64\": \"ami-7f77b31f\",\n",
      "                \"HVM64\": \"ami-7172b611\",\n",
      "                \"HVMG2\": \"ami-caf253aa\"\n",
      "            },\n",
      "            \"us-west-1\": {\n",
      "                \"PV64\": \"ami-a2490dc2\",\n",
      "                \"HVM64\": \"ami-31490d51\",\n",
      "                \"HVMG2\": \"ami-00347e60\"\n",
      "            },\n",
      "            \"eu-west-1\": {\n",
      "                \"PV64\": \"ami-4cdd453f\",\n",
      "                \"HVM64\": \"ami-f9dd458a\",\n",
      "                \"HVMG2\": \"ami-e2f7bd91\"\n",
      "            },\n",
      "            \"eu-central-1\": {\n",
      "                \"PV64\": \"ami-6527cf0a\",\n",
      "                \"HVM64\": \"ami-ea26ce85\",\n",
      "                \"HVMG2\": \"ami-d2ff04bd\"\n",
      "            },\n",
      "            \"ap-northeast-1\": {\n",
      "                \"PV64\": \"ami-3e42b65f\",\n",
      "                \"HVM64\": \"ami-374db956\",\n",
      "                \"HVMG2\": \"ami-4c78d52d\"\n",
      "            },\n",
      "            \"ap-northeast-2\": {\n",
      "                \"PV64\": \"NOT_SUPPORTED\",\n",
      "                \"HVM64\": \"ami-2b408b45\",\n",
      "                \"HVMG2\": \"NOT_SUPPORTED\"\n",
      "            },\n",
      "            \"ap-southeast-1\": {\n",
      "                \"PV64\": \"ami-df9e4cbc\",\n",
      "                \"HVM64\": \"ami-a59b49c6\",\n",
      "                \"HVMG2\": \"ami-f3f95990\"\n",
      "            },\n",
      "            \"ap-southeast-2\": {\n",
      "                \"PV64\": \"ami-63351d00\",\n",
      "                \"HVM64\": \"ami-dc361ebf\",\n",
      "                \"HVMG2\": \"ami-3a122e59\"\n",
      "            },\n",
      "            \"ap-south-1\": {\n",
      "                \"PV64\": \"NOT_SUPPORTED\",\n",
      "                \"HVM64\": \"ami-ffbdd790\",\n",
      "                \"HVMG2\": \"ami-21a7d34e\"\n",
      "            },\n",
      "            \"us-east-2\": {\n",
      "                \"PV64\": \"NOT_SUPPORTED\",\n",
      "                \"HVM64\": \"ami-f6035893\",\n",
      "                \"HVMG2\": \"NOT_SUPPORTED\"\n",
      "            },\n",
      "            \"sa-east-1\": {\n",
      "                \"PV64\": \"ami-1ad34676\",\n",
      "                \"HVM64\": \"ami-6dd04501\",\n",
      "                \"HVMG2\": \"NOT_SUPPORTED\"\n",
      "            },\n",
      "            \"cn-north-1\": {\n",
      "                \"PV64\": \"ami-77559f1a\",\n",
      "                \"HVM64\": \"ami-8e6aa0e3\",\n",
      "                \"HVMG2\": \"NOT_SUPPORTED\"\n",
      "            }\n",
      "        }\n",
      "    },\n",
      "    \"Resources\": {\n",
      "        \"EC2Instance\": {\n",
      "            \"Type\": \"AWS::EC2::Instance\",\n",
      "            \"Properties\": {\n",
      "                \"InstanceType\": {\n",
      "                    \"Ref\": \"InstanceType\"\n",
      "                },\n",
      "                \"KeyName\": {\n",
      "                    \"Ref\": \"KeyName\"\n",
      "                },\n",
      "                \"SubnetId\": {\n",
      "                    \"Ref\": \"SubnetPool\"\n",
      "                },\n",
      "                \"ImageId\": {\n",
      "                    \"Fn::FindInMap\": [\n",
      "                        \"AWSRegionArch2AMI\",\n",
      "                        {\n",
      "                            \"Ref\": \"AWS::Region\"\n",
      "                        },\n",
      "                        {\n",
      "                            \"Fn::FindInMap\": [\n",
      "                                \"AWSInstanceType2Arch\",\n",
      "                                {\n",
      "                                    \"Ref\": \"InstanceType\"\n",
      "                                },\n",
      "                                \"Arch\"\n",
      "                            ]\n",
      "                        }\n",
      "                    ]\n",
      "                }\n",
      "            }\n",
      "        },\n",
      "        \"InstanceSecurityGroup\": {\n",
      "            \"Type\": \"AWS::EC2::SecurityGroup\",\n",
      "            \"Properties\": {\n",
      "                \"GroupDescription\": \"Enable SSH access via port 22\",\n",
      "                \"SecurityGroupIngress\": [\n",
      "                    {\n",
      "                        \"IpProtocol\": \"tcp\",\n",
      "                        \"FromPort\": \"22\",\n",
      "                        \"ToPort\": \"22\",\n",
      "                        \"CidrIp\": {\n",
      "                            \"Ref\": \"SSHLocation\"\n",
      "                        }\n",
      "                    }\n",
      "                ]\n",
      "            }\n",
      "        }\n",
      "    },\n",
      "    \"Outputs\": {\n",
      "        \"InstanceId\": {\n",
      "            \"Description\": \"InstanceId of the newly created EC2 instance\",\n",
      "            \"Value\": {\n",
      "                \"Ref\": \"EC2Instance\"\n",
      "            }\n",
      "        },\n",
      "        \"AZ\": {\n",
      "            \"Description\": \"Availability Zone of the newly created EC2 instance\",\n",
      "            \"Value\": {\n",
      "                \"Fn::GetAtt\": [\n",
      "                    \"EC2Instance\",\n",
      "                    \"AvailabilityZone\"\n",
      "                ]\n",
      "            }\n",
      "        }\n",
      "    }\n",
      "}\n"
     ]
    }
   ],
   "source": [
    "## Complete your solution here\n",
    "import json\n",
    "import yaml\n",
    "\n",
    "jsondata = open('task3-input.json').read()\n",
    "\n",
    "jsondict = json.loads(jsondata)\n",
    "\n",
    "print(json.dumps(jsondict, indent = 4, sort_keys=False))\n",
    "\n",
    "jsondict['Parameters']['InstanceType']['Default'] = 'c3.large'\n",
    "\n",
    "with open('task3_output1.json', 'w') as json_file:\n",
    "  json.dump(jsondict, json_file, indent=4, sort_keys=False)\n",
    "  \n",
    "with open('task3_output2.yaml', 'w') as yaml_file:\n",
    "  yaml.dump(jsondict, yaml_file, default_flow_style=False)"
   ]
  },
  {
   "cell_type": "markdown",
   "metadata": {},
   "source": []
  },
  {
   "cell_type": "markdown",
   "metadata": {},
   "source": [
    "## LAB 1 Grading\n",
    "\n",
    "A TA will check your outputs for the 3 tasks above in this Notebook file."
   ]
  },
  {
   "cell_type": "code",
   "execution_count": null,
   "metadata": {},
   "outputs": [],
   "source": []
  }
 ],
 "metadata": {
  "kernelspec": {
   "display_name": "Python 3 (ipykernel)",
   "language": "python",
   "name": "python3"
  },
  "language_info": {
   "codemirror_mode": {
    "name": "ipython",
    "version": 3
   },
   "file_extension": ".py",
   "mimetype": "text/x-python",
   "name": "python",
   "nbconvert_exporter": "python",
   "pygments_lexer": "ipython3",
   "version": "3.12.0"
  }
 },
 "nbformat": 4,
 "nbformat_minor": 4
}
