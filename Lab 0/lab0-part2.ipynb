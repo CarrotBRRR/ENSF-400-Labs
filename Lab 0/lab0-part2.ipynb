{
 "cells": [
  {
   "cell_type": "markdown",
   "metadata": {},
   "source": [
    "# ENSF 400 – Winter 2024 - Lab 0 - Part 2 - Week 2\n",
    "\n",
    "Follow all steps in the lab. Run sample code blocks and check the results to verify the knowledge points. Complete the 4 tasks in the lab.\n",
    "\n",
    "## 1 - The Basics\n",
    "\n",
    "### 1.1 Basic syntax for statements \n",
    "The basic rules for writing simple statments and expressions in Python are:\n",
    "\n",
    "#### No spaces or tab characters allowed at the start of a statement\n",
    "\n",
    "Indentation plays a special role in Python (see the section on control statements). For now simply ensure that all statements start at the beginning of the line.\n",
    "\n",
    "#### The '#' character indicates that the rest of the line is a comment\n",
    "\n",
    "\n",
    "The jupyter notebook system for writting Python intersperses text (like this) with Python statements. Try typing something into the cell (box) below and press the 'Run' button above to execute it. We will discuss operators that can be used in such operations further below, but for numbers these are mostly fairly obvious."
   ]
  },
  {
   "cell_type": "markdown",
   "metadata": {},
   "source": [
    "#### Statements finish at the end of the line...\n",
    "\n"
   ]
  },
  {
   "cell_type": "code",
   "execution_count": null,
   "metadata": {},
   "outputs": [],
   "source": [
    "#illegal continuation of the sum\n",
    "1 + 2\n",
    "+ 3  "
   ]
  },
  {
   "cell_type": "markdown",
   "metadata": {},
   "source": [
    "#### ...except when there is an open bracket or paranthesis"
   ]
  },
  {
   "cell_type": "code",
   "execution_count": null,
   "metadata": {},
   "outputs": [],
   "source": [
    "(1+2\n",
    "             + 3) # perfectly OK even with spaces"
   ]
  },
  {
   "cell_type": "markdown",
   "metadata": {},
   "source": [
    "#### A single backslash at the end of the line \n",
    "\n",
    "can also be used to indicate that a statement is still incomplete"
   ]
  },
  {
   "cell_type": "code",
   "execution_count": null,
   "metadata": {},
   "outputs": [],
   "source": [
    "1 + \\\n",
    "   2 + 3 # this is also OK"
   ]
  },
  {
   "cell_type": "code",
   "execution_count": null,
   "metadata": {},
   "outputs": [],
   "source": [
    "1 + 2 * 3"
   ]
  },
  {
   "cell_type": "markdown",
   "metadata": {},
   "source": [
    "Python has extensive help built in. You can execute `help()` for an overview or `help(x)` for any library, object or type `x`."
   ]
  },
  {
   "cell_type": "markdown",
   "metadata": {},
   "source": [
    "#### Task 1\n",
    "\n",
    "Use help(\"topics\") to get a list of help pages built into the help system. Then pick any topic and use help() again to get more details for that topic.\n",
    "Practice `help()` using the code block below."
   ]
  },
  {
   "cell_type": "code",
   "execution_count": null,
   "metadata": {},
   "outputs": [],
   "source": [
    "# TASK 1 TODO\n",
    "\n"
   ]
  },
  {
   "cell_type": "markdown",
   "metadata": {},
   "source": [
    "### 1.2 Variables & Values"
   ]
  },
  {
   "cell_type": "markdown",
   "metadata": {},
   "source": [
    "A name that is used to denote something or a value is called a variable. In python, variables can be declared and values can be assigned to it as follows,"
   ]
  },
  {
   "cell_type": "code",
   "execution_count": null,
   "metadata": {},
   "outputs": [],
   "source": [
    "x = 2          # anything after a '#' is a comment\n",
    "y = 5\n",
    "xy = 'Hey'\n",
    "print(x + y, xy) # not really necessary as the last value in a bit of code is displayed by default"
   ]
  },
  {
   "cell_type": "markdown",
   "metadata": {},
   "source": [
    "Multiple variables can be assigned with the same value."
   ]
  },
  {
   "cell_type": "code",
   "execution_count": null,
   "metadata": {},
   "outputs": [],
   "source": [
    "x = y = 1\n",
    "print(x, y)"
   ]
  },
  {
   "cell_type": "markdown",
   "metadata": {},
   "source": [
    "The basic types build into Python include `float` (floating point numbers), `int` (integers), `str` (unicode character strings) and `bool` (boolean). Some examples of each:"
   ]
  },
  {
   "cell_type": "code",
   "execution_count": null,
   "metadata": {},
   "outputs": [],
   "source": [
    "2.0           # a simple floating point number\n",
    "1e100         # a googol as floating point number\n",
    "-1234567890   # an integer\n",
    "True or False # the two possible boolean values\n",
    "'This is a string'\n",
    "\"It's another string\"\n",
    "print(\"\"\"Triple quotes (also with '''), allow strings to break over multiple lines.\n",
    "Alternatively \\n is a newline character (\\t for tab, \\\\ is a single backslash)\"\"\")"
   ]
  },
  {
   "cell_type": "markdown",
   "metadata": {},
   "source": [
    "#### Task 2\n",
    "\n",
    "Print the following paragraph:\n",
    "```\n",
    "He clasps the crag with crooked hands;\n",
    "Close to the sun in lonely lands,\n",
    "Ring’d with the azure world, he stands.\n",
    "\n",
    "The wrinkled sea beneath him crawls;\n",
    "He watches from his mountain walls,\n",
    "And like a thunderbolt he falls.\n",
    "```\n",
    "\n",
    "by using a single `print()` function call in two ways:\n",
    "- Use triple quotes for printing multiple lines of strings.\n",
    "- Use `\\n` for printing multiple lines of strings."
   ]
  },
  {
   "cell_type": "code",
   "execution_count": null,
   "metadata": {},
   "outputs": [],
   "source": [
    "# TASK 2 TODO\n"
   ]
  },
  {
   "cell_type": "markdown",
   "metadata": {},
   "source": [
    "Python also has complex numbers that can be written as follows. Note that the brackets are required."
   ]
  },
  {
   "cell_type": "code",
   "execution_count": null,
   "metadata": {},
   "outputs": [],
   "source": [
    "complex(1, 2)\n",
    "(1.0 + 2j) # the same number as above"
   ]
  },
  {
   "cell_type": "markdown",
   "metadata": {},
   "source": [
    "### 1.3 Operators"
   ]
  },
  {
   "cell_type": "markdown",
   "metadata": {},
   "source": [
    "#### Arithmetic Operators"
   ]
  },
  {
   "cell_type": "markdown",
   "metadata": {},
   "source": [
    "| Symbol | Task Performed |\n",
    "|----|---|\n",
    "| +  | Addition |\n",
    "| -  | Subtraction |\n",
    "| /  | Division |\n",
    "| //  | Integer division |\n",
    "| %  | Modulus (remainder) |\n",
    "| *  | Multiplication |\n",
    "| **  | Exponentiation (power) |\n",
    "\n",
    "As expected these operations generally promote to the most general type of any of the numbers involved i.e. int -> float -> complex."
   ]
  },
  {
   "cell_type": "code",
   "execution_count": null,
   "metadata": {},
   "outputs": [],
   "source": [
    "1 + 2.0"
   ]
  },
  {
   "cell_type": "code",
   "execution_count": null,
   "metadata": {},
   "outputs": [],
   "source": [
    "3 - 1"
   ]
  },
  {
   "cell_type": "code",
   "execution_count": null,
   "metadata": {},
   "outputs": [],
   "source": [
    "2 * (3+0j) * 1.0"
   ]
  },
  {
   "cell_type": "code",
   "execution_count": null,
   "metadata": {},
   "outputs": [],
   "source": [
    "3/4"
   ]
  },
  {
   "cell_type": "markdown",
   "metadata": {},
   "source": [
    "In many languages (and older versions of python) 1/2 = 0 (truncated division). In Python 3 this behaviour is captured by a separate operator that rounds down: (ie a // b$=\\lfloor \\frac{a}{b}\\rfloor$)"
   ]
  },
  {
   "cell_type": "code",
   "execution_count": null,
   "metadata": {},
   "outputs": [],
   "source": [
    "3//4.0"
   ]
  },
  {
   "cell_type": "code",
   "execution_count": null,
   "metadata": {},
   "outputs": [],
   "source": [
    "15%10"
   ]
  },
  {
   "cell_type": "markdown",
   "metadata": {},
   "source": [
    "Python natively allows (nearly) infinite length integers while floating point numbers are double precision numbers:"
   ]
  },
  {
   "cell_type": "code",
   "execution_count": null,
   "metadata": {},
   "outputs": [],
   "source": [
    "11**300"
   ]
  },
  {
   "cell_type": "code",
   "execution_count": null,
   "metadata": {},
   "outputs": [],
   "source": [
    "11.0**30"
   ]
  },
  {
   "cell_type": "markdown",
   "metadata": {},
   "source": [
    "#### Relational Operators"
   ]
  },
  {
   "cell_type": "markdown",
   "metadata": {},
   "source": [
    "| Symbol | Task Performed |\n",
    "|----| :--- |\n",
    "| == | True, if it is equal |\n",
    "| !=  | True, if not equal to |\n",
    "| < | less than |\n",
    "| > | greater than |\n",
    "| <=  | less than or equal to |\n",
    "| >=  | greater than or equal to |\n",
    "\n",
    "Note the difference between `==` (equality test) and `=` (assignment)"
   ]
  },
  {
   "cell_type": "code",
   "execution_count": null,
   "metadata": {},
   "outputs": [],
   "source": [
    "z = 2\n",
    "z == 2"
   ]
  },
  {
   "cell_type": "code",
   "execution_count": null,
   "metadata": {},
   "outputs": [],
   "source": [
    "z > 2"
   ]
  },
  {
   "cell_type": "markdown",
   "metadata": {},
   "source": [
    "Comparisons can also be chained in the mathematically obvious way. The following will work as expected in Python (but not in other languages like C/C++):"
   ]
  },
  {
   "cell_type": "code",
   "execution_count": null,
   "metadata": {},
   "outputs": [],
   "source": [
    "0.5 < z <= 1"
   ]
  },
  {
   "cell_type": "markdown",
   "metadata": {},
   "source": [
    "### Boolean and Bitwise Operators"
   ]
  },
  {
   "cell_type": "markdown",
   "metadata": {},
   "source": [
    "|Operator|Meaning | \\| | Symbol | Task Performed |\n",
    "|----|--- | - |----|---|\n",
    "|`and`| Logical and | \\| | &  | Bitwise And |\n",
    "|`or` | Logical or | \\| | $\\mid$  | Bitwise OR |\n",
    "|`not` | Not | \\| | ~  | Negate |\n",
    "| &nbsp;  |&nbsp;  |  \\| |  ^  | Exclusive or |\n",
    "| &nbsp;|&nbsp; | \\| |  >>  | Right shift |\n",
    "| &nbsp;| &nbsp;| \\| |  <<  | Left shift |\n"
   ]
  },
  {
   "cell_type": "code",
   "execution_count": null,
   "metadata": {},
   "outputs": [],
   "source": [
    "a = 2 #binary: 10\n",
    "b = 3 #binary: 11\n",
    "print('a & b =',a & b,\"=\",bin(a&b))\n",
    "print('a | b =',a | b,\"=\",bin(a|b))\n",
    "print('a ^ b =',a ^ b,\"=\",bin(a^b))\n",
    "print('b << a =',b<<a,\"=\",bin(b<<a))"
   ]
  },
  {
   "cell_type": "code",
   "execution_count": null,
   "metadata": {},
   "outputs": [],
   "source": [
    "print( not (True and False), \"==\", not True or not False)"
   ]
  },
  {
   "cell_type": "markdown",
   "metadata": {},
   "source": [
    "#### Assignment operators\n",
    "\n",
    "The binary operators can be combined with assignment to modify a variable value.\n",
    "For example:"
   ]
  },
  {
   "cell_type": "code",
   "execution_count": null,
   "metadata": {},
   "outputs": [],
   "source": [
    "x = 1\n",
    "x += 2 # add 2 to x\n",
    "print(\"x is\",x)\n",
    "x <<= 2 # left shift by 2 (equivalent to x *= 4)\n",
    "print('x is',x)\n",
    "x **= 2 # x := x^2\n",
    "print('x is',x)"
   ]
  },
  {
   "cell_type": "markdown",
   "metadata": {},
   "source": [
    "### 1.4 Built-in Functions"
   ]
  },
  {
   "cell_type": "markdown",
   "metadata": {},
   "source": [
    "Python comes with a wide range of functions. However many of these are part of stanard libraries like the `math` library rather than built-in."
   ]
  },
  {
   "cell_type": "markdown",
   "metadata": {},
   "source": [
    "#### Converting values\n",
    "\n",
    "Conversion from hexadecimal to decimal is done by adding prefix **0x** to the hexadecimal value or vice versa by using built in `hex( )`, Octal to decimal by adding prefix **0** to the octal value or vice versa by using built in function `oct( )`."
   ]
  },
  {
   "cell_type": "code",
   "execution_count": null,
   "metadata": {},
   "outputs": [],
   "source": [
    "hex(171) # hexadecmial value as string"
   ]
  },
  {
   "cell_type": "code",
   "execution_count": null,
   "metadata": {},
   "outputs": [],
   "source": [
    "0xAB"
   ]
  },
  {
   "cell_type": "markdown",
   "metadata": {},
   "source": [
    "`int( )` converts a number to an integer. This can be a single floating point number, integer or a string. For strings the base can optionally be specified:"
   ]
  },
  {
   "cell_type": "code",
   "execution_count": null,
   "metadata": {},
   "outputs": [],
   "source": [
    "print(int(7.7), int('111', 2),int('7'))"
   ]
  },
  {
   "cell_type": "markdown",
   "metadata": {},
   "source": [
    " Similarly, the function `str( )` can be used to convert almost anything to a string"
   ]
  },
  {
   "cell_type": "code",
   "execution_count": null,
   "metadata": {},
   "outputs": [],
   "source": [
    "print(str(True), str(1.2345678), str(-2))"
   ]
  },
  {
   "cell_type": "markdown",
   "metadata": {},
   "source": [
    "#### Mathematical functions\n",
    "Mathematical functions include the usual suspects like logarithms, trigonometric fuctions, the constant $\\pi$ and so on."
   ]
  },
  {
   "cell_type": "code",
   "execution_count": null,
   "metadata": {},
   "outputs": [],
   "source": [
    "import math\n",
    "math.sin(math.pi / 2)\n",
    "from math import * # avoid having to put a math. in front of every mathematical function\n",
    "sin(pi / 2) # equivalent to the statement above"
   ]
  },
  {
   "cell_type": "markdown",
   "metadata": {},
   "source": [
    "#### Simplifying Arithmetic Operations"
   ]
  },
  {
   "cell_type": "markdown",
   "metadata": {},
   "source": [
    "`round( )` function rounds the input value to a specified number of places or to the nearest integer. "
   ]
  },
  {
   "cell_type": "code",
   "execution_count": null,
   "metadata": {},
   "outputs": [],
   "source": [
    "print( round(5.6231) )\n",
    "print( round(4.55892, 2) )"
   ]
  },
  {
   "cell_type": "markdown",
   "metadata": {},
   "source": [
    "`abs( )` provides the absolute value of any number (including the magnitude of a complex number)."
   ]
  },
  {
   "cell_type": "code",
   "execution_count": null,
   "metadata": {},
   "outputs": [],
   "source": [
    "c = complex('5+2j')\n",
    "print(\"|5+2i| =\", abs(c) , \"\\t |-5| =\", abs(-5) )"
   ]
  },
  {
   "cell_type": "markdown",
   "metadata": {},
   "source": [
    "`divmod(x,y)` outputs the quotient and the remainder in a tuple (you will be learning about tuples in the further chapters) in the format (quotient, remainder). "
   ]
  },
  {
   "cell_type": "code",
   "execution_count": null,
   "metadata": {},
   "outputs": [],
   "source": [
    "divmod(9,2)"
   ]
  },
  {
   "cell_type": "markdown",
   "metadata": {},
   "source": [
    "#### Accepting User Inputs"
   ]
  },
  {
   "cell_type": "markdown",
   "metadata": {},
   "source": [
    "`input(prompt)`,  prompts for and returns input as a string. A useful function to use in conjunction with this is `eval()` which takes a string and evaluates it as a python expression.\n",
    "\n",
    "*Note:* In notebooks it is often easier just to modify the code than to prompt for input."
   ]
  },
  {
   "cell_type": "code",
   "execution_count": null,
   "metadata": {},
   "outputs": [],
   "source": [
    "abc =  input(\"abc = \")\n",
    "abcValue = eval(abc)\n",
    "print(abc, '=', abcValue)"
   ]
  },
  {
   "cell_type": "markdown",
   "metadata": {},
   "source": [
    "## 2 - Working with strings\n",
    "\n",
    "Recall from the previous section that strings can be entered with single, double or triple quotes:\n",
    "\n",
    "```python\n",
    "  'All', \"of\", '''these''', \"\"\"are\n",
    "  valid strings\"\"\"\n",
    "```\n",
    "\n",
    "**Unicode:** Python supports unicode strings - however for the most part this will be ignored in here. If you are workign in an editor that supports unicode you can use non-ASCII characters in strings (or even for variable names). Alternatively typing something like `\"\\u00B3\"` will give you the string \"³\" (superscript-3).  \n",
    "\n",
    "### 2.1 The Print Statement"
   ]
  },
  {
   "cell_type": "markdown",
   "metadata": {},
   "source": [
    "As seen previously, The `print()` function prints all of its arguments as strings, separated by spaces and follows by a linebreak:\n",
    "\n",
    "    - print(\"Hello World\")\n",
    "    - print(\"Hello\",'World')\n",
    "    - print(\"Hello\", <Variable>)\n",
    "\n",
    "Note that `print` is different in old versions of Python (2.7) where it was a statement and did not need parentheses around its arguments."
   ]
  },
  {
   "cell_type": "code",
   "execution_count": null,
   "metadata": {},
   "outputs": [],
   "source": [
    "print(\"Hello\",\"World\")"
   ]
  },
  {
   "cell_type": "markdown",
   "metadata": {},
   "source": [
    "The print has some optional arguments to control where and how to print. This includes `sep` the separator (default space) and `end` (end charcter) and `file` to write to a file. When writing to a file, setting the argument `flush=True` may be useful to force the function to write the output immediately. Without this Python may buffer the output which helps to improve the speed for repeated calls to print(), but isn't helpful if you are, for example, wanting to see the output immediately during debugging)"
   ]
  },
  {
   "cell_type": "code",
   "execution_count": null,
   "metadata": {},
   "outputs": [],
   "source": [
    "print(\"Hello\", \"World\", sep='...', end='!!', flush=True)"
   ]
  },
  {
   "cell_type": "markdown",
   "metadata": {},
   "source": [
    "### 2.2 String Formating\n",
    "\n",
    "There are lots of methods for formating and manipulating strings built into python. Some of these are illustrated here.\n",
    "\n",
    "String concatenation is the \"addition\" of two strings. Observe that while concatenating there will be no space between the strings."
   ]
  },
  {
   "cell_type": "code",
   "execution_count": null,
   "metadata": {},
   "outputs": [],
   "source": [
    "string1 = 'World'\n",
    "string2 = '!'\n",
    "print('Hello' + \" \" + string1 + string2)"
   ]
  },
  {
   "cell_type": "markdown",
   "metadata": {},
   "source": [
    "The `%` operator is used to format a string inserting the value that comes after. It relies on the string containing a format specifier that identifies where to insert the value. The most common types of format specifiers are:\n",
    "\n",
    "    - %s -> string\n",
    "    - %d -> Integer\n",
    "    - %f -> Float\n",
    "    - %o -> Octal\n",
    "    - %x -> Hexadecimal\n",
    "    - %e -> exponential\n",
    "    \n",
    "These will be very familiar to anyone who has ever written a C or Java program and follow nearly exactly the same rules as the [`printf()`](https://en.wikipedia.org/wiki/Printf_format_string) function."
   ]
  },
  {
   "cell_type": "code",
   "execution_count": null,
   "metadata": {},
   "outputs": [],
   "source": [
    "print(\"Hello %s\" % string1)\n",
    "print(\"Actual Number = %d\" % 18)\n",
    "print(\"Float of the number = %f\" % 18)\n",
    "print(\"Octal equivalent of the number = %o\" % 18)\n",
    "print(\"Hexadecimal equivalent of the number = %x\" % 18)\n",
    "print(\"Exponential equivalent of the number = %e\" % 18)"
   ]
  },
  {
   "cell_type": "markdown",
   "metadata": {},
   "source": [
    "When referring to multiple variables parentheses is used. Values are inserted in the order they appear in the parantheses (more on tuples in the next section)"
   ]
  },
  {
   "cell_type": "markdown",
   "metadata": {},
   "source": [
    "#### Task 3\n",
    "\n",
    "1. Use the String formatting operator`%` and the reference above to print the following line:\n",
    "```\n",
    "Hello ENSF400. This meaning of life is 42.\n",
    "```\n",
    "Use the 3 variables already defined below and print exactly the same sentence above.\n",
    "1. Use `.format()` function to print the same results\n",
    "1. Use `f-strings` to print the same results"
   ]
  },
  {
   "cell_type": "code",
   "execution_count": null,
   "metadata": {},
   "outputs": [],
   "source": [
    "name = 'ENSF400'\n",
    "obj = 'life'\n",
    "num = 42\n",
    "\n",
    "## TASK 3 TODO\n"
   ]
  },
  {
   "cell_type": "markdown",
   "metadata": {},
   "source": [
    "We can also specify the width of the field and the number of decimal places to be used. For example:"
   ]
  },
  {
   "cell_type": "markdown",
   "metadata": {},
   "source": [
    "#### Task 4\n",
    "\n",
    "Use the String formatting operator`%` and the reference above to print the following line:\n",
    "```\n",
    "Hello ENSF400. This meaning of life is 42.\n",
    "```\n",
    "Use the 3 variables already defined below and print exactly the same sentence above."
   ]
  },
  {
   "cell_type": "code",
   "execution_count": null,
   "metadata": {},
   "outputs": [],
   "source": [
    "print('Print width 10: |%10s|'%'x')\n",
    "print('Print width 10: |%-10s|'%'x') # left justified\n",
    "print(\"The number pi = %.2f to 2 decimal places\"%3.1415)\n",
    "print(\"More space pi = %10.2f\"%3.1415)\n",
    "print(\"Pad pi with 0 = %010.2f\"%3.1415) # pad with zeros"
   ]
  },
  {
   "cell_type": "markdown",
   "metadata": {},
   "source": [
    "### 2.3 Other String Methods"
   ]
  },
  {
   "cell_type": "markdown",
   "metadata": {},
   "source": [
    "Multiplying a string by an integer simply repeats it"
   ]
  },
  {
   "cell_type": "code",
   "execution_count": null,
   "metadata": {},
   "outputs": [],
   "source": [
    "print(\"Hello World! \"*5)"
   ]
  },
  {
   "cell_type": "markdown",
   "metadata": {},
   "source": [
    "#### Formatting\n",
    "Strings can be tranformed by a variety of functions that are all methods on a string. That is they are called by putting the function name with a `.` after the string. They include:\n",
    "\n",
    "* Upper vs lower case: `upper()`, `lower()`, `captialize()`, `title()` and `swapcase()` with mostly the obvious meaning. Note that `capitalize` makes the first letter of the string a capital only, while `title` selects upper case for the first letter of every word.\n",
    "* Padding strings: `center(n)`, `ljust(n)` and `rjust(n)` each place the string into a longer string of length n  padded by spaces (centered, left-justified or right-justified respectively). `zfill(n)` works similarly but pads with leading zeros.\n",
    "* Stripping strings: Often we want to remove spaces, this is achived with the functions `strip()`, `lstrip()`, and `rstrip()` respectively to remove from spaces from the both end, just left or just the right respectively. An optional argument can be used to list a set of other characters to be removed."
   ]
  },
  {
   "cell_type": "code",
   "execution_count": null,
   "metadata": {},
   "outputs": [],
   "source": [
    "s=\"heLLo wORLd!\"\n",
    "print(s.capitalize(),\"vs\",s.title())\n",
    "print(\"upper: '%s'\"%s.upper(),\"lower: '%s'\"%s.lower(),\"and swapped: '%s'\"%s.swapcase())\n",
    "print('|%s|' % \"Hello World\".center(30)) # center in 30 characters\n",
    "print('|%s|'% \"     lots of space             \".strip()) # remove leading and trailing whitespace\n",
    "print('%s without leading/trailing d,h,L or ! = |%s|',s.strip(\"dhL!\"))\n",
    "print(\"Hello World\".replace(\"World\",\"Class\"))"
   ]
  },
  {
   "cell_type": "markdown",
   "metadata": {},
   "source": [
    "#### Inspecting Strings\n",
    "There are also lost of ways to inspect or check strings. Examples of a few of these are given here:\n",
    "\n",
    "* Checking the start or end of a string: `startswith(\"string\")` and `endswith(\"string\")` checks if it starts/ends with the string given as argument\n",
    "* Capitalisation: There are boolean counterparts for all forms of capitalisation, such as `isupper()`, `islower()` and `istitle()`\n",
    "* Character type: does the string only contain the characters\n",
    "  * 0-9: `isdecimal()`. Note there is also `isnumeric()` and `isdigit()` which are effectively the same function except for certain unicode characters\n",
    "  * a-zA-Z: `isalpha()` or combined with digits: `isalnum()`\n",
    "  * non-control code: `isprintable()` accepts anything except '\\n' an other ASCII control codes\n",
    "  * \\t\\n \\r (white space characters): `isspace()`\n",
    "  * Suitable as variable name: `isidentifier()`\n",
    "* Find elements of string: `s.count(w)` finds the number of times w occurs in s, while `s.find(w)` and `s.rfind(w)` find the first and last position of the string w in s.\n"
   ]
  },
  {
   "cell_type": "code",
   "execution_count": null,
   "metadata": {},
   "outputs": [],
   "source": [
    "s=\"Hello World\"\n",
    "print(\"The length of '%s' is\"%s,len(s),\"characters\") # len() gives length\n",
    "s.startswith(\"Hello\") and s.endswith(\"World\") # check start/end\n",
    "# count strings\n",
    "print(\"There are %d 'l's but only %d World in %s\" % (s.count('l'),s.count('World'),s))\n",
    "print('\"el\" is at index',s.find('el'),\"in\",s) #index from 0 or -1"
   ]
  },
  {
   "cell_type": "markdown",
   "metadata": {},
   "source": [
    "### 2.4 String comparison operations\n",
    "Strings can be compared in lexicographical order with the usual comparisons. In addition the `in` operator checks for substrings:"
   ]
  },
  {
   "cell_type": "code",
   "execution_count": null,
   "metadata": {},
   "outputs": [],
   "source": [
    "'abc' < 'bbc' <= 'bbc'"
   ]
  },
  {
   "cell_type": "code",
   "execution_count": null,
   "metadata": {},
   "outputs": [],
   "source": [
    "\"ABC\" in \"This is the ABC of Python\""
   ]
  },
  {
   "cell_type": "markdown",
   "metadata": {},
   "source": [
    "### 2.5 Accessing parts of strings"
   ]
  },
  {
   "cell_type": "markdown",
   "metadata": {},
   "source": [
    "Strings can be indexed with square brackets. Indexing starts from zero in Python. And the `len()` function provides the length of a string"
   ]
  },
  {
   "cell_type": "code",
   "execution_count": null,
   "metadata": {},
   "outputs": [],
   "source": [
    "s = '123456789'\n",
    "print(\"The string '%s' string is %d characters long\" % (s, len(s)) )\n",
    "print('First character of',s,'is',s[0])\n",
    "print('Last character of',s,'is',s[len(s)-1])"
   ]
  },
  {
   "cell_type": "markdown",
   "metadata": {},
   "source": [
    "Negative indices can be used to start counting from the back"
   ]
  },
  {
   "cell_type": "code",
   "execution_count": null,
   "metadata": {},
   "outputs": [],
   "source": [
    "print('First character of',s,'is',s[-len(s)])\n",
    "print('Last character of',s,'is',s[-1])"
   ]
  },
  {
   "cell_type": "markdown",
   "metadata": {},
   "source": [
    "Finally a substring (range of characters) an be specified as using $a:b$ to specify the characters at index $a,a+1,\\ldots,b-1$. Note that the last charcter is *not* included."
   ]
  },
  {
   "cell_type": "code",
   "execution_count": null,
   "metadata": {},
   "outputs": [],
   "source": [
    "print(\"First three characters\",s[0:3])\n",
    "print(\"Next three characters\",s[3:6])"
   ]
  },
  {
   "cell_type": "markdown",
   "metadata": {},
   "source": [
    "An empty beginning and end of the range denotes the beginning/end of the string:"
   ]
  },
  {
   "cell_type": "code",
   "execution_count": null,
   "metadata": {},
   "outputs": [],
   "source": [
    "print(\"First three characters\", s[:3])\n",
    "print(\"Last three characters\", s[-3:])"
   ]
  },
  {
   "cell_type": "markdown",
   "metadata": {},
   "source": [
    "#### Breaking appart strings\n",
    "When processing text, the ability to split strings appart is particularly useful. \n",
    "\n",
    "* `partition(separator)`: breaks a string into three parts based on a separator\n",
    "* `split()`: breaks string into words separated by white-space (optionally takes a separator as argument)\n",
    "* `join()`: joins the result of a split using string as separator"
   ]
  },
  {
   "cell_type": "code",
   "execution_count": null,
   "metadata": {},
   "outputs": [],
   "source": [
    "s = \"one -> two  ->  three\"\n",
    "print( s.partition(\"->\") )\n",
    "print( s.split() )\n",
    "print( s.split(\" -> \") )\n",
    "print( \";\".join( s.split(\" -> \") ) )"
   ]
  },
  {
   "cell_type": "markdown",
   "metadata": {},
   "source": [
    "### 2.6 Strings are immutable\n",
    "\n",
    "It is important that strings are constant, immutable values in Python. While new strings can easily be created it is not possible to modify a string:"
   ]
  },
  {
   "cell_type": "code",
   "execution_count": null,
   "metadata": {},
   "outputs": [],
   "source": [
    "s='012345'\n",
    "sX=s[:2]+'X'+s[3:] # this creates a new string with 2 replaced by X\n",
    "print(\"creating new string\",sX,\"OK\")\n",
    "sX=s.replace('2','X') # the same thing\n",
    "print(sX,\"still OK\")\n",
    "s[2] = 'X' # an error!!!"
   ]
  },
  {
   "cell_type": "markdown",
   "metadata": {},
   "source": [
    "### 2.7 Advanced string processing\n",
    "For more advanced string processing there are many libraries available in Python including for example:\n",
    "* **re** for regular expression based searching and splitting of strings\n",
    "* **html** for manipulating HTML format text\n",
    "* **textwrap** for reformatting ASCII text\n",
    "* ... and many more"
   ]
  },
  {
   "cell_type": "code",
   "execution_count": 1,
   "metadata": {},
   "outputs": [
    {
     "name": "stdout",
     "output_type": "stream",
     "text": [
      "This is the first line\n",
      "Second line\n",
      "Third line\n"
     ]
    }
   ],
   "source": [
    "print(\"\"\"This is the first line\n",
    "Second line\n",
    "Third line\"\"\")"
   ]
  },
  {
   "cell_type": "code",
   "execution_count": 3,
   "metadata": {},
   "outputs": [
    {
     "name": "stdout",
     "output_type": "stream",
     "text": [
      "This is the first line\n",
      "Second line\n",
      "Third line\n"
     ]
    }
   ],
   "source": [
    "print(\"This is the first line\\nSecond line\\nThird line\")"
   ]
  }
 ],
 "metadata": {
  "kernelspec": {
   "display_name": "Python 3 (ipykernel)",
   "language": "python",
   "name": "python3"
  },
  "language_info": {
   "codemirror_mode": {
    "name": "ipython",
    "version": 3
   },
   "file_extension": ".py",
   "mimetype": "text/x-python",
   "name": "python",
   "nbconvert_exporter": "python",
   "pygments_lexer": "ipython3",
   "version": "3.11.3"
  }
 },
 "nbformat": 4,
 "nbformat_minor": 4
}
